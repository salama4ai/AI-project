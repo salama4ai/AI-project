{
  "nbformat": 4,
  "nbformat_minor": 0,
  "metadata": {
    "colab": {
      "provenance": [],
      "mount_file_id": "1g-pR8TkhmSEXyP7ATOp5rZyu5NHxn4Op",
      "authorship_tag": "ABX9TyOPU6IygqJKlb//XhgEkkiX",
      "include_colab_link": true
    },
    "kernelspec": {
      "name": "python3",
      "display_name": "Python 3"
    },
    "language_info": {
      "name": "python"
    }
  },
  "cells": [
    {
      "cell_type": "markdown",
      "metadata": {
        "id": "view-in-github",
        "colab_type": "text"
      },
      "source": [
        "<a href=\"https://colab.research.google.com/github/salama4ai/AI-project/blob/main/EDA.ipynb\" target=\"_parent\"><img src=\"https://colab.research.google.com/assets/colab-badge.svg\" alt=\"Open In Colab\"/></a>"
      ]
    },
    {
      "cell_type": "code",
      "execution_count": 1,
      "metadata": {
        "id": "ajVUf3e6aaIk"
      },
      "outputs": [],
      "source": [
        "# importing the needed libraries\n",
        "import seaborn as sns\n",
        "import numpy as np\n",
        "import pandas as pd\n",
        "from sklearn.feature_selection import VarianceThreshold\n",
        "from matplotlib import pyplot as plt"
      ]
    },
    {
      "cell_type": "code",
      "source": [
        "# reading the csv file that contains the data\n",
        "df = pd.read_csv(\"/content/drive/MyDrive/Mabrains-data/simulated_data_nmos.csv\")"
      ],
      "metadata": {
        "id": "2SVcNrWoadhX"
      },
      "execution_count": 2,
      "outputs": []
    },
    {
      "cell_type": "markdown",
      "source": [
        "# Exploratory Data Analysis"
      ],
      "metadata": {
        "id": "UEi5MEjjKwIc"
      }
    },
    {
      "cell_type": "code",
      "source": [
        "# showing up the first 7 columns of df\n",
        "df.head(7)"
      ],
      "metadata": {
        "id": "AbLzHvfEb7Nf",
        "colab": {
          "base_uri": "https://localhost:8080/",
          "height": 318
        },
        "outputId": "ad71fbfc-8e5c-4c8d-eb90-4effc49cfadf"
      },
      "execution_count": 3,
      "outputs": [
        {
          "output_type": "execute_result",
          "data": {
            "text/plain": [
              "    vds  L(um)  W(um)  drain_length(um)  temperature  vgs  vsb       vth  \\\n",
              "0 -0.45    8.0   0.84               0.3         27.0  0.0  0.0  0.402306   \n",
              "1 -0.40    8.0   0.84               0.3         27.0  0.0  0.0  0.420865   \n",
              "2 -0.35    8.0   0.84               0.3         27.0  0.0  0.0  0.438375   \n",
              "3 -0.30    8.0   0.84               0.3         27.0  0.0  0.0  0.454991   \n",
              "4 -0.25    8.0   0.84               0.3         27.0  0.0  0.0  0.470835   \n",
              "5 -0.20    8.0   0.84               0.3         27.0  0.0  0.0  0.486004   \n",
              "6 -0.15    8.0   0.84               0.3         27.0  0.0  0.0  0.500575   \n",
              "\n",
              "   v_pinch_off  lambda(um)  ...   gmb(uS)      ro(Kohm)     cgg(aF)  \\\n",
              "0        -0.45   -0.011819  ...  0.197561  3.181189e+06  34032.2445   \n",
              "1        -0.45   -0.011819  ...  0.060563  6.552405e+06  31291.9536   \n",
              "2        -0.45   -0.011819  ...  0.016120  1.321234e+07  28034.5839   \n",
              "3        -0.45   -0.011819  ...  0.003967  3.684764e+07  24469.8762   \n",
              "4        -0.45   -0.011819  ...  0.000886  1.229205e+08  20989.5482   \n",
              "5        -0.45   -0.011819  ...  0.000180  4.327627e+08  18025.3202   \n",
              "6        -0.45   -0.011819  ...  0.000034  1.361104e+09  15843.8855   \n",
              "\n",
              "       cgs(aF)    cgd(aF)    cdd(aF)      cdb(aF)      cgb(aF)     csb(aF)  \\\n",
              "0 -28204.18220 -69.122702  88.099279 -4468.207890  -5758.93958 -6638.15046   \n",
              "1 -24561.09330 -64.892149  80.854021 -3789.708030  -6665.96815 -5628.27847   \n",
              "2 -20243.40750 -60.510512  73.904890 -3083.997720  -7730.66594 -4577.23770   \n",
              "3 -15523.22350 -56.971381  68.328120 -2370.676590  -8889.68129 -3514.23439   \n",
              "4 -10919.34920 -55.582426  65.518741 -1701.531230 -10014.61660 -2516.57348   \n",
              "5  -7004.64524 -58.521640  67.790314 -1137.598860 -10962.15330 -1675.27883   \n",
              "6  -4127.15063 -70.952272  80.628608  -716.745221 -11645.78260 -1046.34733   \n",
              "\n",
              "   corner  \n",
              "0      tt  \n",
              "1      tt  \n",
              "2      tt  \n",
              "3      tt  \n",
              "4      tt  \n",
              "5      tt  \n",
              "6      tt  \n",
              "\n",
              "[7 rows x 23 columns]"
            ],
            "text/html": [
              "\n",
              "  <div id=\"df-017b8191-5c63-4518-90f0-1313126407cd\" class=\"colab-df-container\">\n",
              "    <div>\n",
              "<style scoped>\n",
              "    .dataframe tbody tr th:only-of-type {\n",
              "        vertical-align: middle;\n",
              "    }\n",
              "\n",
              "    .dataframe tbody tr th {\n",
              "        vertical-align: top;\n",
              "    }\n",
              "\n",
              "    .dataframe thead th {\n",
              "        text-align: right;\n",
              "    }\n",
              "</style>\n",
              "<table border=\"1\" class=\"dataframe\">\n",
              "  <thead>\n",
              "    <tr style=\"text-align: right;\">\n",
              "      <th></th>\n",
              "      <th>vds</th>\n",
              "      <th>L(um)</th>\n",
              "      <th>W(um)</th>\n",
              "      <th>drain_length(um)</th>\n",
              "      <th>temperature</th>\n",
              "      <th>vgs</th>\n",
              "      <th>vsb</th>\n",
              "      <th>vth</th>\n",
              "      <th>v_pinch_off</th>\n",
              "      <th>lambda(um)</th>\n",
              "      <th>...</th>\n",
              "      <th>gmb(uS)</th>\n",
              "      <th>ro(Kohm)</th>\n",
              "      <th>cgg(aF)</th>\n",
              "      <th>cgs(aF)</th>\n",
              "      <th>cgd(aF)</th>\n",
              "      <th>cdd(aF)</th>\n",
              "      <th>cdb(aF)</th>\n",
              "      <th>cgb(aF)</th>\n",
              "      <th>csb(aF)</th>\n",
              "      <th>corner</th>\n",
              "    </tr>\n",
              "  </thead>\n",
              "  <tbody>\n",
              "    <tr>\n",
              "      <th>0</th>\n",
              "      <td>-0.45</td>\n",
              "      <td>8.0</td>\n",
              "      <td>0.84</td>\n",
              "      <td>0.3</td>\n",
              "      <td>27.0</td>\n",
              "      <td>0.0</td>\n",
              "      <td>0.0</td>\n",
              "      <td>0.402306</td>\n",
              "      <td>-0.45</td>\n",
              "      <td>-0.011819</td>\n",
              "      <td>...</td>\n",
              "      <td>0.197561</td>\n",
              "      <td>3.181189e+06</td>\n",
              "      <td>34032.2445</td>\n",
              "      <td>-28204.18220</td>\n",
              "      <td>-69.122702</td>\n",
              "      <td>88.099279</td>\n",
              "      <td>-4468.207890</td>\n",
              "      <td>-5758.93958</td>\n",
              "      <td>-6638.15046</td>\n",
              "      <td>tt</td>\n",
              "    </tr>\n",
              "    <tr>\n",
              "      <th>1</th>\n",
              "      <td>-0.40</td>\n",
              "      <td>8.0</td>\n",
              "      <td>0.84</td>\n",
              "      <td>0.3</td>\n",
              "      <td>27.0</td>\n",
              "      <td>0.0</td>\n",
              "      <td>0.0</td>\n",
              "      <td>0.420865</td>\n",
              "      <td>-0.45</td>\n",
              "      <td>-0.011819</td>\n",
              "      <td>...</td>\n",
              "      <td>0.060563</td>\n",
              "      <td>6.552405e+06</td>\n",
              "      <td>31291.9536</td>\n",
              "      <td>-24561.09330</td>\n",
              "      <td>-64.892149</td>\n",
              "      <td>80.854021</td>\n",
              "      <td>-3789.708030</td>\n",
              "      <td>-6665.96815</td>\n",
              "      <td>-5628.27847</td>\n",
              "      <td>tt</td>\n",
              "    </tr>\n",
              "    <tr>\n",
              "      <th>2</th>\n",
              "      <td>-0.35</td>\n",
              "      <td>8.0</td>\n",
              "      <td>0.84</td>\n",
              "      <td>0.3</td>\n",
              "      <td>27.0</td>\n",
              "      <td>0.0</td>\n",
              "      <td>0.0</td>\n",
              "      <td>0.438375</td>\n",
              "      <td>-0.45</td>\n",
              "      <td>-0.011819</td>\n",
              "      <td>...</td>\n",
              "      <td>0.016120</td>\n",
              "      <td>1.321234e+07</td>\n",
              "      <td>28034.5839</td>\n",
              "      <td>-20243.40750</td>\n",
              "      <td>-60.510512</td>\n",
              "      <td>73.904890</td>\n",
              "      <td>-3083.997720</td>\n",
              "      <td>-7730.66594</td>\n",
              "      <td>-4577.23770</td>\n",
              "      <td>tt</td>\n",
              "    </tr>\n",
              "    <tr>\n",
              "      <th>3</th>\n",
              "      <td>-0.30</td>\n",
              "      <td>8.0</td>\n",
              "      <td>0.84</td>\n",
              "      <td>0.3</td>\n",
              "      <td>27.0</td>\n",
              "      <td>0.0</td>\n",
              "      <td>0.0</td>\n",
              "      <td>0.454991</td>\n",
              "      <td>-0.45</td>\n",
              "      <td>-0.011819</td>\n",
              "      <td>...</td>\n",
              "      <td>0.003967</td>\n",
              "      <td>3.684764e+07</td>\n",
              "      <td>24469.8762</td>\n",
              "      <td>-15523.22350</td>\n",
              "      <td>-56.971381</td>\n",
              "      <td>68.328120</td>\n",
              "      <td>-2370.676590</td>\n",
              "      <td>-8889.68129</td>\n",
              "      <td>-3514.23439</td>\n",
              "      <td>tt</td>\n",
              "    </tr>\n",
              "    <tr>\n",
              "      <th>4</th>\n",
              "      <td>-0.25</td>\n",
              "      <td>8.0</td>\n",
              "      <td>0.84</td>\n",
              "      <td>0.3</td>\n",
              "      <td>27.0</td>\n",
              "      <td>0.0</td>\n",
              "      <td>0.0</td>\n",
              "      <td>0.470835</td>\n",
              "      <td>-0.45</td>\n",
              "      <td>-0.011819</td>\n",
              "      <td>...</td>\n",
              "      <td>0.000886</td>\n",
              "      <td>1.229205e+08</td>\n",
              "      <td>20989.5482</td>\n",
              "      <td>-10919.34920</td>\n",
              "      <td>-55.582426</td>\n",
              "      <td>65.518741</td>\n",
              "      <td>-1701.531230</td>\n",
              "      <td>-10014.61660</td>\n",
              "      <td>-2516.57348</td>\n",
              "      <td>tt</td>\n",
              "    </tr>\n",
              "    <tr>\n",
              "      <th>5</th>\n",
              "      <td>-0.20</td>\n",
              "      <td>8.0</td>\n",
              "      <td>0.84</td>\n",
              "      <td>0.3</td>\n",
              "      <td>27.0</td>\n",
              "      <td>0.0</td>\n",
              "      <td>0.0</td>\n",
              "      <td>0.486004</td>\n",
              "      <td>-0.45</td>\n",
              "      <td>-0.011819</td>\n",
              "      <td>...</td>\n",
              "      <td>0.000180</td>\n",
              "      <td>4.327627e+08</td>\n",
              "      <td>18025.3202</td>\n",
              "      <td>-7004.64524</td>\n",
              "      <td>-58.521640</td>\n",
              "      <td>67.790314</td>\n",
              "      <td>-1137.598860</td>\n",
              "      <td>-10962.15330</td>\n",
              "      <td>-1675.27883</td>\n",
              "      <td>tt</td>\n",
              "    </tr>\n",
              "    <tr>\n",
              "      <th>6</th>\n",
              "      <td>-0.15</td>\n",
              "      <td>8.0</td>\n",
              "      <td>0.84</td>\n",
              "      <td>0.3</td>\n",
              "      <td>27.0</td>\n",
              "      <td>0.0</td>\n",
              "      <td>0.0</td>\n",
              "      <td>0.500575</td>\n",
              "      <td>-0.45</td>\n",
              "      <td>-0.011819</td>\n",
              "      <td>...</td>\n",
              "      <td>0.000034</td>\n",
              "      <td>1.361104e+09</td>\n",
              "      <td>15843.8855</td>\n",
              "      <td>-4127.15063</td>\n",
              "      <td>-70.952272</td>\n",
              "      <td>80.628608</td>\n",
              "      <td>-716.745221</td>\n",
              "      <td>-11645.78260</td>\n",
              "      <td>-1046.34733</td>\n",
              "      <td>tt</td>\n",
              "    </tr>\n",
              "  </tbody>\n",
              "</table>\n",
              "<p>7 rows × 23 columns</p>\n",
              "</div>\n",
              "    <div class=\"colab-df-buttons\">\n",
              "\n",
              "  <div class=\"colab-df-container\">\n",
              "    <button class=\"colab-df-convert\" onclick=\"convertToInteractive('df-017b8191-5c63-4518-90f0-1313126407cd')\"\n",
              "            title=\"Convert this dataframe to an interactive table.\"\n",
              "            style=\"display:none;\">\n",
              "\n",
              "  <svg xmlns=\"http://www.w3.org/2000/svg\" height=\"24px\" viewBox=\"0 -960 960 960\">\n",
              "    <path d=\"M120-120v-720h720v720H120Zm60-500h600v-160H180v160Zm220 220h160v-160H400v160Zm0 220h160v-160H400v160ZM180-400h160v-160H180v160Zm440 0h160v-160H620v160ZM180-180h160v-160H180v160Zm440 0h160v-160H620v160Z\"/>\n",
              "  </svg>\n",
              "    </button>\n",
              "\n",
              "  <style>\n",
              "    .colab-df-container {\n",
              "      display:flex;\n",
              "      gap: 12px;\n",
              "    }\n",
              "\n",
              "    .colab-df-convert {\n",
              "      background-color: #E8F0FE;\n",
              "      border: none;\n",
              "      border-radius: 50%;\n",
              "      cursor: pointer;\n",
              "      display: none;\n",
              "      fill: #1967D2;\n",
              "      height: 32px;\n",
              "      padding: 0 0 0 0;\n",
              "      width: 32px;\n",
              "    }\n",
              "\n",
              "    .colab-df-convert:hover {\n",
              "      background-color: #E2EBFA;\n",
              "      box-shadow: 0px 1px 2px rgba(60, 64, 67, 0.3), 0px 1px 3px 1px rgba(60, 64, 67, 0.15);\n",
              "      fill: #174EA6;\n",
              "    }\n",
              "\n",
              "    .colab-df-buttons div {\n",
              "      margin-bottom: 4px;\n",
              "    }\n",
              "\n",
              "    [theme=dark] .colab-df-convert {\n",
              "      background-color: #3B4455;\n",
              "      fill: #D2E3FC;\n",
              "    }\n",
              "\n",
              "    [theme=dark] .colab-df-convert:hover {\n",
              "      background-color: #434B5C;\n",
              "      box-shadow: 0px 1px 3px 1px rgba(0, 0, 0, 0.15);\n",
              "      filter: drop-shadow(0px 1px 2px rgba(0, 0, 0, 0.3));\n",
              "      fill: #FFFFFF;\n",
              "    }\n",
              "  </style>\n",
              "\n",
              "    <script>\n",
              "      const buttonEl =\n",
              "        document.querySelector('#df-017b8191-5c63-4518-90f0-1313126407cd button.colab-df-convert');\n",
              "      buttonEl.style.display =\n",
              "        google.colab.kernel.accessAllowed ? 'block' : 'none';\n",
              "\n",
              "      async function convertToInteractive(key) {\n",
              "        const element = document.querySelector('#df-017b8191-5c63-4518-90f0-1313126407cd');\n",
              "        const dataTable =\n",
              "          await google.colab.kernel.invokeFunction('convertToInteractive',\n",
              "                                                    [key], {});\n",
              "        if (!dataTable) return;\n",
              "\n",
              "        const docLinkHtml = 'Like what you see? Visit the ' +\n",
              "          '<a target=\"_blank\" href=https://colab.research.google.com/notebooks/data_table.ipynb>data table notebook</a>'\n",
              "          + ' to learn more about interactive tables.';\n",
              "        element.innerHTML = '';\n",
              "        dataTable['output_type'] = 'display_data';\n",
              "        await google.colab.output.renderOutput(dataTable, element);\n",
              "        const docLink = document.createElement('div');\n",
              "        docLink.innerHTML = docLinkHtml;\n",
              "        element.appendChild(docLink);\n",
              "      }\n",
              "    </script>\n",
              "  </div>\n",
              "\n",
              "\n",
              "<div id=\"df-a5b0e2b9-df6c-4c8e-89cf-a9c5c1765f30\">\n",
              "  <button class=\"colab-df-quickchart\" onclick=\"quickchart('df-a5b0e2b9-df6c-4c8e-89cf-a9c5c1765f30')\"\n",
              "            title=\"Suggest charts.\"\n",
              "            style=\"display:none;\">\n",
              "\n",
              "<svg xmlns=\"http://www.w3.org/2000/svg\" height=\"24px\"viewBox=\"0 0 24 24\"\n",
              "     width=\"24px\">\n",
              "    <g>\n",
              "        <path d=\"M19 3H5c-1.1 0-2 .9-2 2v14c0 1.1.9 2 2 2h14c1.1 0 2-.9 2-2V5c0-1.1-.9-2-2-2zM9 17H7v-7h2v7zm4 0h-2V7h2v10zm4 0h-2v-4h2v4z\"/>\n",
              "    </g>\n",
              "</svg>\n",
              "  </button>\n",
              "\n",
              "<style>\n",
              "  .colab-df-quickchart {\n",
              "      --bg-color: #E8F0FE;\n",
              "      --fill-color: #1967D2;\n",
              "      --hover-bg-color: #E2EBFA;\n",
              "      --hover-fill-color: #174EA6;\n",
              "      --disabled-fill-color: #AAA;\n",
              "      --disabled-bg-color: #DDD;\n",
              "  }\n",
              "\n",
              "  [theme=dark] .colab-df-quickchart {\n",
              "      --bg-color: #3B4455;\n",
              "      --fill-color: #D2E3FC;\n",
              "      --hover-bg-color: #434B5C;\n",
              "      --hover-fill-color: #FFFFFF;\n",
              "      --disabled-bg-color: #3B4455;\n",
              "      --disabled-fill-color: #666;\n",
              "  }\n",
              "\n",
              "  .colab-df-quickchart {\n",
              "    background-color: var(--bg-color);\n",
              "    border: none;\n",
              "    border-radius: 50%;\n",
              "    cursor: pointer;\n",
              "    display: none;\n",
              "    fill: var(--fill-color);\n",
              "    height: 32px;\n",
              "    padding: 0;\n",
              "    width: 32px;\n",
              "  }\n",
              "\n",
              "  .colab-df-quickchart:hover {\n",
              "    background-color: var(--hover-bg-color);\n",
              "    box-shadow: 0 1px 2px rgba(60, 64, 67, 0.3), 0 1px 3px 1px rgba(60, 64, 67, 0.15);\n",
              "    fill: var(--button-hover-fill-color);\n",
              "  }\n",
              "\n",
              "  .colab-df-quickchart-complete:disabled,\n",
              "  .colab-df-quickchart-complete:disabled:hover {\n",
              "    background-color: var(--disabled-bg-color);\n",
              "    fill: var(--disabled-fill-color);\n",
              "    box-shadow: none;\n",
              "  }\n",
              "\n",
              "  .colab-df-spinner {\n",
              "    border: 2px solid var(--fill-color);\n",
              "    border-color: transparent;\n",
              "    border-bottom-color: var(--fill-color);\n",
              "    animation:\n",
              "      spin 1s steps(1) infinite;\n",
              "  }\n",
              "\n",
              "  @keyframes spin {\n",
              "    0% {\n",
              "      border-color: transparent;\n",
              "      border-bottom-color: var(--fill-color);\n",
              "      border-left-color: var(--fill-color);\n",
              "    }\n",
              "    20% {\n",
              "      border-color: transparent;\n",
              "      border-left-color: var(--fill-color);\n",
              "      border-top-color: var(--fill-color);\n",
              "    }\n",
              "    30% {\n",
              "      border-color: transparent;\n",
              "      border-left-color: var(--fill-color);\n",
              "      border-top-color: var(--fill-color);\n",
              "      border-right-color: var(--fill-color);\n",
              "    }\n",
              "    40% {\n",
              "      border-color: transparent;\n",
              "      border-right-color: var(--fill-color);\n",
              "      border-top-color: var(--fill-color);\n",
              "    }\n",
              "    60% {\n",
              "      border-color: transparent;\n",
              "      border-right-color: var(--fill-color);\n",
              "    }\n",
              "    80% {\n",
              "      border-color: transparent;\n",
              "      border-right-color: var(--fill-color);\n",
              "      border-bottom-color: var(--fill-color);\n",
              "    }\n",
              "    90% {\n",
              "      border-color: transparent;\n",
              "      border-bottom-color: var(--fill-color);\n",
              "    }\n",
              "  }\n",
              "</style>\n",
              "\n",
              "  <script>\n",
              "    async function quickchart(key) {\n",
              "      const quickchartButtonEl =\n",
              "        document.querySelector('#' + key + ' button');\n",
              "      quickchartButtonEl.disabled = true;  // To prevent multiple clicks.\n",
              "      quickchartButtonEl.classList.add('colab-df-spinner');\n",
              "      try {\n",
              "        const charts = await google.colab.kernel.invokeFunction(\n",
              "            'suggestCharts', [key], {});\n",
              "      } catch (error) {\n",
              "        console.error('Error during call to suggestCharts:', error);\n",
              "      }\n",
              "      quickchartButtonEl.classList.remove('colab-df-spinner');\n",
              "      quickchartButtonEl.classList.add('colab-df-quickchart-complete');\n",
              "    }\n",
              "    (() => {\n",
              "      let quickchartButtonEl =\n",
              "        document.querySelector('#df-a5b0e2b9-df6c-4c8e-89cf-a9c5c1765f30 button');\n",
              "      quickchartButtonEl.style.display =\n",
              "        google.colab.kernel.accessAllowed ? 'block' : 'none';\n",
              "    })();\n",
              "  </script>\n",
              "</div>\n",
              "    </div>\n",
              "  </div>\n"
            ]
          },
          "metadata": {},
          "execution_count": 3
        }
      ]
    },
    {
      "cell_type": "markdown",
      "source": [
        "as stated in the problem statment i allowed to use only these columns and i must drop all other columns"
      ],
      "metadata": {
        "id": "bWX40gJNzABO"
      }
    },
    {
      "cell_type": "code",
      "source": [
        "# the only allowed columns to use as stated in the problem statment\n",
        "allowed_columns = [\"vds\", \"L(um)\", \"W(um)\", \"drain_length(um)\", \"temperature\", \"vgs\", \"vsb\", \"corner\", \"id(uA)\"]"
      ],
      "metadata": {
        "id": "3GY7UWORy-1P"
      },
      "execution_count": 4,
      "outputs": []
    },
    {
      "cell_type": "code",
      "source": [
        "# including the allowed columns and excluding any other ones from df\n",
        "df = df[allowed_columns]"
      ],
      "metadata": {
        "id": "wH5PHCrjMS51"
      },
      "execution_count": 5,
      "outputs": []
    },
    {
      "cell_type": "code",
      "source": [
        "# show the type and non-null values counts of each column\n",
        "df.info()"
      ],
      "metadata": {
        "colab": {
          "base_uri": "https://localhost:8080/"
        },
        "id": "qNeyGyS-MUcJ",
        "outputId": "9794dce9-7508-4f69-e92f-70337b35cf19"
      },
      "execution_count": 6,
      "outputs": [
        {
          "output_type": "stream",
          "name": "stdout",
          "text": [
            "<class 'pandas.core.frame.DataFrame'>\n",
            "RangeIndex: 871488 entries, 0 to 871487\n",
            "Data columns (total 9 columns):\n",
            " #   Column            Non-Null Count   Dtype  \n",
            "---  ------            --------------   -----  \n",
            " 0   vds               871488 non-null  float64\n",
            " 1   L(um)             871488 non-null  float64\n",
            " 2   W(um)             871488 non-null  float64\n",
            " 3   drain_length(um)  871488 non-null  float64\n",
            " 4   temperature       871488 non-null  float64\n",
            " 5   vgs               871488 non-null  float64\n",
            " 6   vsb               871488 non-null  float64\n",
            " 7   corner            871488 non-null  object \n",
            " 8   id(uA)            871488 non-null  float64\n",
            "dtypes: float64(8), object(1)\n",
            "memory usage: 59.8+ MB\n"
          ]
        }
      ]
    },
    {
      "cell_type": "markdown",
      "source": [
        "as we may notice that all columns doesn't contains any null values, and the type of all columns is float64 except the corner column is of object type or categorical column"
      ],
      "metadata": {
        "id": "4OGMoxMVq8YY"
      }
    },
    {
      "cell_type": "code",
      "source": [
        "# check again if the any column contains any null value\n",
        "df.isna().sum()\n",
        "\n",
        "# get the same information with another way\n",
        "df.isnull().sum()"
      ],
      "metadata": {
        "colab": {
          "base_uri": "https://localhost:8080/"
        },
        "id": "j5KbEpLrq7B6",
        "outputId": "e353c945-c860-4a78-bda1-1ad4d4641735"
      },
      "execution_count": 7,
      "outputs": [
        {
          "output_type": "execute_result",
          "data": {
            "text/plain": [
              "vds                 0\n",
              "L(um)               0\n",
              "W(um)               0\n",
              "drain_length(um)    0\n",
              "temperature         0\n",
              "vgs                 0\n",
              "vsb                 0\n",
              "corner              0\n",
              "id(uA)              0\n",
              "dtype: int64"
            ]
          },
          "metadata": {},
          "execution_count": 7
        }
      ]
    },
    {
      "cell_type": "code",
      "source": [
        "# show up the columns data types\n",
        "df.dtypes"
      ],
      "metadata": {
        "colab": {
          "base_uri": "https://localhost:8080/"
        },
        "id": "OzBMOs16vwri",
        "outputId": "31af1a1b-bff8-4ccf-e2b1-1ecc3bd05b03"
      },
      "execution_count": 8,
      "outputs": [
        {
          "output_type": "execute_result",
          "data": {
            "text/plain": [
              "vds                 float64\n",
              "L(um)               float64\n",
              "W(um)               float64\n",
              "drain_length(um)    float64\n",
              "temperature         float64\n",
              "vgs                 float64\n",
              "vsb                 float64\n",
              "corner               object\n",
              "id(uA)              float64\n",
              "dtype: object"
            ]
          },
          "metadata": {},
          "execution_count": 8
        }
      ]
    },
    {
      "cell_type": "code",
      "source": [
        "# show some statistics for the numerical columns of df.\n",
        "df.describe()"
      ],
      "metadata": {
        "colab": {
          "base_uri": "https://localhost:8080/",
          "height": 320
        },
        "id": "0Oew12eiMWiK",
        "outputId": "702c458a-85b4-47fe-e0ee-2b87b3b19155"
      },
      "execution_count": 9,
      "outputs": [
        {
          "output_type": "execute_result",
          "data": {
            "text/plain": [
              "                 vds          L(um)          W(um)  drain_length(um)  \\\n",
              "count  871488.000000  871488.000000  871488.000000      8.714880e+05   \n",
              "mean        1.000138       0.329525       3.664366      3.000000e-01   \n",
              "std         0.880264       0.431887       6.682675      4.996006e-16   \n",
              "min        -0.500000       0.150000       0.360000      3.000000e-01   \n",
              "25%         0.250000       0.150000       0.650000      3.000000e-01   \n",
              "50%         1.000000       0.150000       0.940000      3.000000e-01   \n",
              "75%         1.750000       0.500000       1.000000      3.000000e-01   \n",
              "max         2.500000       8.000000      25.000000      3.000000e-01   \n",
              "\n",
              "       temperature            vgs            vsb         id(uA)  \n",
              "count     871488.0  871488.000000  871488.000000  871488.000000  \n",
              "mean          27.0       0.895708       0.745869     339.674855  \n",
              "std            0.0       0.535547       0.513941    1229.868653  \n",
              "min           27.0       0.000000       0.000000       0.000000  \n",
              "25%           27.0       0.450000       0.300000       0.000836  \n",
              "50%           27.0       0.900000       0.600000      12.420166  \n",
              "75%           27.0       1.350000       1.200000     122.021384  \n",
              "max           27.0       1.800000       1.500000   14979.728300  "
            ],
            "text/html": [
              "\n",
              "  <div id=\"df-90a114e6-d545-4b2d-80ae-7cb69bcf99c2\" class=\"colab-df-container\">\n",
              "    <div>\n",
              "<style scoped>\n",
              "    .dataframe tbody tr th:only-of-type {\n",
              "        vertical-align: middle;\n",
              "    }\n",
              "\n",
              "    .dataframe tbody tr th {\n",
              "        vertical-align: top;\n",
              "    }\n",
              "\n",
              "    .dataframe thead th {\n",
              "        text-align: right;\n",
              "    }\n",
              "</style>\n",
              "<table border=\"1\" class=\"dataframe\">\n",
              "  <thead>\n",
              "    <tr style=\"text-align: right;\">\n",
              "      <th></th>\n",
              "      <th>vds</th>\n",
              "      <th>L(um)</th>\n",
              "      <th>W(um)</th>\n",
              "      <th>drain_length(um)</th>\n",
              "      <th>temperature</th>\n",
              "      <th>vgs</th>\n",
              "      <th>vsb</th>\n",
              "      <th>id(uA)</th>\n",
              "    </tr>\n",
              "  </thead>\n",
              "  <tbody>\n",
              "    <tr>\n",
              "      <th>count</th>\n",
              "      <td>871488.000000</td>\n",
              "      <td>871488.000000</td>\n",
              "      <td>871488.000000</td>\n",
              "      <td>8.714880e+05</td>\n",
              "      <td>871488.0</td>\n",
              "      <td>871488.000000</td>\n",
              "      <td>871488.000000</td>\n",
              "      <td>871488.000000</td>\n",
              "    </tr>\n",
              "    <tr>\n",
              "      <th>mean</th>\n",
              "      <td>1.000138</td>\n",
              "      <td>0.329525</td>\n",
              "      <td>3.664366</td>\n",
              "      <td>3.000000e-01</td>\n",
              "      <td>27.0</td>\n",
              "      <td>0.895708</td>\n",
              "      <td>0.745869</td>\n",
              "      <td>339.674855</td>\n",
              "    </tr>\n",
              "    <tr>\n",
              "      <th>std</th>\n",
              "      <td>0.880264</td>\n",
              "      <td>0.431887</td>\n",
              "      <td>6.682675</td>\n",
              "      <td>4.996006e-16</td>\n",
              "      <td>0.0</td>\n",
              "      <td>0.535547</td>\n",
              "      <td>0.513941</td>\n",
              "      <td>1229.868653</td>\n",
              "    </tr>\n",
              "    <tr>\n",
              "      <th>min</th>\n",
              "      <td>-0.500000</td>\n",
              "      <td>0.150000</td>\n",
              "      <td>0.360000</td>\n",
              "      <td>3.000000e-01</td>\n",
              "      <td>27.0</td>\n",
              "      <td>0.000000</td>\n",
              "      <td>0.000000</td>\n",
              "      <td>0.000000</td>\n",
              "    </tr>\n",
              "    <tr>\n",
              "      <th>25%</th>\n",
              "      <td>0.250000</td>\n",
              "      <td>0.150000</td>\n",
              "      <td>0.650000</td>\n",
              "      <td>3.000000e-01</td>\n",
              "      <td>27.0</td>\n",
              "      <td>0.450000</td>\n",
              "      <td>0.300000</td>\n",
              "      <td>0.000836</td>\n",
              "    </tr>\n",
              "    <tr>\n",
              "      <th>50%</th>\n",
              "      <td>1.000000</td>\n",
              "      <td>0.150000</td>\n",
              "      <td>0.940000</td>\n",
              "      <td>3.000000e-01</td>\n",
              "      <td>27.0</td>\n",
              "      <td>0.900000</td>\n",
              "      <td>0.600000</td>\n",
              "      <td>12.420166</td>\n",
              "    </tr>\n",
              "    <tr>\n",
              "      <th>75%</th>\n",
              "      <td>1.750000</td>\n",
              "      <td>0.500000</td>\n",
              "      <td>1.000000</td>\n",
              "      <td>3.000000e-01</td>\n",
              "      <td>27.0</td>\n",
              "      <td>1.350000</td>\n",
              "      <td>1.200000</td>\n",
              "      <td>122.021384</td>\n",
              "    </tr>\n",
              "    <tr>\n",
              "      <th>max</th>\n",
              "      <td>2.500000</td>\n",
              "      <td>8.000000</td>\n",
              "      <td>25.000000</td>\n",
              "      <td>3.000000e-01</td>\n",
              "      <td>27.0</td>\n",
              "      <td>1.800000</td>\n",
              "      <td>1.500000</td>\n",
              "      <td>14979.728300</td>\n",
              "    </tr>\n",
              "  </tbody>\n",
              "</table>\n",
              "</div>\n",
              "    <div class=\"colab-df-buttons\">\n",
              "\n",
              "  <div class=\"colab-df-container\">\n",
              "    <button class=\"colab-df-convert\" onclick=\"convertToInteractive('df-90a114e6-d545-4b2d-80ae-7cb69bcf99c2')\"\n",
              "            title=\"Convert this dataframe to an interactive table.\"\n",
              "            style=\"display:none;\">\n",
              "\n",
              "  <svg xmlns=\"http://www.w3.org/2000/svg\" height=\"24px\" viewBox=\"0 -960 960 960\">\n",
              "    <path d=\"M120-120v-720h720v720H120Zm60-500h600v-160H180v160Zm220 220h160v-160H400v160Zm0 220h160v-160H400v160ZM180-400h160v-160H180v160Zm440 0h160v-160H620v160ZM180-180h160v-160H180v160Zm440 0h160v-160H620v160Z\"/>\n",
              "  </svg>\n",
              "    </button>\n",
              "\n",
              "  <style>\n",
              "    .colab-df-container {\n",
              "      display:flex;\n",
              "      gap: 12px;\n",
              "    }\n",
              "\n",
              "    .colab-df-convert {\n",
              "      background-color: #E8F0FE;\n",
              "      border: none;\n",
              "      border-radius: 50%;\n",
              "      cursor: pointer;\n",
              "      display: none;\n",
              "      fill: #1967D2;\n",
              "      height: 32px;\n",
              "      padding: 0 0 0 0;\n",
              "      width: 32px;\n",
              "    }\n",
              "\n",
              "    .colab-df-convert:hover {\n",
              "      background-color: #E2EBFA;\n",
              "      box-shadow: 0px 1px 2px rgba(60, 64, 67, 0.3), 0px 1px 3px 1px rgba(60, 64, 67, 0.15);\n",
              "      fill: #174EA6;\n",
              "    }\n",
              "\n",
              "    .colab-df-buttons div {\n",
              "      margin-bottom: 4px;\n",
              "    }\n",
              "\n",
              "    [theme=dark] .colab-df-convert {\n",
              "      background-color: #3B4455;\n",
              "      fill: #D2E3FC;\n",
              "    }\n",
              "\n",
              "    [theme=dark] .colab-df-convert:hover {\n",
              "      background-color: #434B5C;\n",
              "      box-shadow: 0px 1px 3px 1px rgba(0, 0, 0, 0.15);\n",
              "      filter: drop-shadow(0px 1px 2px rgba(0, 0, 0, 0.3));\n",
              "      fill: #FFFFFF;\n",
              "    }\n",
              "  </style>\n",
              "\n",
              "    <script>\n",
              "      const buttonEl =\n",
              "        document.querySelector('#df-90a114e6-d545-4b2d-80ae-7cb69bcf99c2 button.colab-df-convert');\n",
              "      buttonEl.style.display =\n",
              "        google.colab.kernel.accessAllowed ? 'block' : 'none';\n",
              "\n",
              "      async function convertToInteractive(key) {\n",
              "        const element = document.querySelector('#df-90a114e6-d545-4b2d-80ae-7cb69bcf99c2');\n",
              "        const dataTable =\n",
              "          await google.colab.kernel.invokeFunction('convertToInteractive',\n",
              "                                                    [key], {});\n",
              "        if (!dataTable) return;\n",
              "\n",
              "        const docLinkHtml = 'Like what you see? Visit the ' +\n",
              "          '<a target=\"_blank\" href=https://colab.research.google.com/notebooks/data_table.ipynb>data table notebook</a>'\n",
              "          + ' to learn more about interactive tables.';\n",
              "        element.innerHTML = '';\n",
              "        dataTable['output_type'] = 'display_data';\n",
              "        await google.colab.output.renderOutput(dataTable, element);\n",
              "        const docLink = document.createElement('div');\n",
              "        docLink.innerHTML = docLinkHtml;\n",
              "        element.appendChild(docLink);\n",
              "      }\n",
              "    </script>\n",
              "  </div>\n",
              "\n",
              "\n",
              "<div id=\"df-feb569fe-cc63-46ed-b994-d67b3cd05bcb\">\n",
              "  <button class=\"colab-df-quickchart\" onclick=\"quickchart('df-feb569fe-cc63-46ed-b994-d67b3cd05bcb')\"\n",
              "            title=\"Suggest charts.\"\n",
              "            style=\"display:none;\">\n",
              "\n",
              "<svg xmlns=\"http://www.w3.org/2000/svg\" height=\"24px\"viewBox=\"0 0 24 24\"\n",
              "     width=\"24px\">\n",
              "    <g>\n",
              "        <path d=\"M19 3H5c-1.1 0-2 .9-2 2v14c0 1.1.9 2 2 2h14c1.1 0 2-.9 2-2V5c0-1.1-.9-2-2-2zM9 17H7v-7h2v7zm4 0h-2V7h2v10zm4 0h-2v-4h2v4z\"/>\n",
              "    </g>\n",
              "</svg>\n",
              "  </button>\n",
              "\n",
              "<style>\n",
              "  .colab-df-quickchart {\n",
              "      --bg-color: #E8F0FE;\n",
              "      --fill-color: #1967D2;\n",
              "      --hover-bg-color: #E2EBFA;\n",
              "      --hover-fill-color: #174EA6;\n",
              "      --disabled-fill-color: #AAA;\n",
              "      --disabled-bg-color: #DDD;\n",
              "  }\n",
              "\n",
              "  [theme=dark] .colab-df-quickchart {\n",
              "      --bg-color: #3B4455;\n",
              "      --fill-color: #D2E3FC;\n",
              "      --hover-bg-color: #434B5C;\n",
              "      --hover-fill-color: #FFFFFF;\n",
              "      --disabled-bg-color: #3B4455;\n",
              "      --disabled-fill-color: #666;\n",
              "  }\n",
              "\n",
              "  .colab-df-quickchart {\n",
              "    background-color: var(--bg-color);\n",
              "    border: none;\n",
              "    border-radius: 50%;\n",
              "    cursor: pointer;\n",
              "    display: none;\n",
              "    fill: var(--fill-color);\n",
              "    height: 32px;\n",
              "    padding: 0;\n",
              "    width: 32px;\n",
              "  }\n",
              "\n",
              "  .colab-df-quickchart:hover {\n",
              "    background-color: var(--hover-bg-color);\n",
              "    box-shadow: 0 1px 2px rgba(60, 64, 67, 0.3), 0 1px 3px 1px rgba(60, 64, 67, 0.15);\n",
              "    fill: var(--button-hover-fill-color);\n",
              "  }\n",
              "\n",
              "  .colab-df-quickchart-complete:disabled,\n",
              "  .colab-df-quickchart-complete:disabled:hover {\n",
              "    background-color: var(--disabled-bg-color);\n",
              "    fill: var(--disabled-fill-color);\n",
              "    box-shadow: none;\n",
              "  }\n",
              "\n",
              "  .colab-df-spinner {\n",
              "    border: 2px solid var(--fill-color);\n",
              "    border-color: transparent;\n",
              "    border-bottom-color: var(--fill-color);\n",
              "    animation:\n",
              "      spin 1s steps(1) infinite;\n",
              "  }\n",
              "\n",
              "  @keyframes spin {\n",
              "    0% {\n",
              "      border-color: transparent;\n",
              "      border-bottom-color: var(--fill-color);\n",
              "      border-left-color: var(--fill-color);\n",
              "    }\n",
              "    20% {\n",
              "      border-color: transparent;\n",
              "      border-left-color: var(--fill-color);\n",
              "      border-top-color: var(--fill-color);\n",
              "    }\n",
              "    30% {\n",
              "      border-color: transparent;\n",
              "      border-left-color: var(--fill-color);\n",
              "      border-top-color: var(--fill-color);\n",
              "      border-right-color: var(--fill-color);\n",
              "    }\n",
              "    40% {\n",
              "      border-color: transparent;\n",
              "      border-right-color: var(--fill-color);\n",
              "      border-top-color: var(--fill-color);\n",
              "    }\n",
              "    60% {\n",
              "      border-color: transparent;\n",
              "      border-right-color: var(--fill-color);\n",
              "    }\n",
              "    80% {\n",
              "      border-color: transparent;\n",
              "      border-right-color: var(--fill-color);\n",
              "      border-bottom-color: var(--fill-color);\n",
              "    }\n",
              "    90% {\n",
              "      border-color: transparent;\n",
              "      border-bottom-color: var(--fill-color);\n",
              "    }\n",
              "  }\n",
              "</style>\n",
              "\n",
              "  <script>\n",
              "    async function quickchart(key) {\n",
              "      const quickchartButtonEl =\n",
              "        document.querySelector('#' + key + ' button');\n",
              "      quickchartButtonEl.disabled = true;  // To prevent multiple clicks.\n",
              "      quickchartButtonEl.classList.add('colab-df-spinner');\n",
              "      try {\n",
              "        const charts = await google.colab.kernel.invokeFunction(\n",
              "            'suggestCharts', [key], {});\n",
              "      } catch (error) {\n",
              "        console.error('Error during call to suggestCharts:', error);\n",
              "      }\n",
              "      quickchartButtonEl.classList.remove('colab-df-spinner');\n",
              "      quickchartButtonEl.classList.add('colab-df-quickchart-complete');\n",
              "    }\n",
              "    (() => {\n",
              "      let quickchartButtonEl =\n",
              "        document.querySelector('#df-feb569fe-cc63-46ed-b994-d67b3cd05bcb button');\n",
              "      quickchartButtonEl.style.display =\n",
              "        google.colab.kernel.accessAllowed ? 'block' : 'none';\n",
              "    })();\n",
              "  </script>\n",
              "</div>\n",
              "    </div>\n",
              "  </div>\n"
            ]
          },
          "metadata": {},
          "execution_count": 9
        }
      ]
    },
    {
      "cell_type": "markdown",
      "source": [
        "as we may notice from the brevious cell the standard deviation of the temperature column is zero. this means that this column contains unique value, and thus this column doesn't affect the output column as it's entropy is zero and thus this columns contains almost zero information, so we can drop it safely, to reduce the curse of dimentionality further."
      ],
      "metadata": {
        "id": "IfzbmTuHmmBw"
      }
    },
    {
      "cell_type": "code",
      "source": [
        "# let's make sure again that the temperature column has an unique value\n",
        "df.temperature.value_counts()\n",
        "\n",
        "#this is another way to get the same information\n",
        "df.temperature.unique()"
      ],
      "metadata": {
        "colab": {
          "base_uri": "https://localhost:8080/"
        },
        "id": "Is49eXJimj2F",
        "outputId": "802a49f0-0a48-41ec-ec03-c41888b0f0c7"
      },
      "execution_count": 10,
      "outputs": [
        {
          "output_type": "execute_result",
          "data": {
            "text/plain": [
              "array([27.])"
            ]
          },
          "metadata": {},
          "execution_count": 10
        }
      ]
    },
    {
      "cell_type": "code",
      "source": [
        "# drop the 'temperature' column from df, due to the reason i explained above\n",
        "df.drop(columns='temperature', inplace=True)"
      ],
      "metadata": {
        "id": "KCn-CCiyo9ou"
      },
      "execution_count": 11,
      "outputs": []
    },
    {
      "cell_type": "markdown",
      "source": [
        "also the same for the 'drain_length(um)' column, the std is very low, so let's check the value counts of this column"
      ],
      "metadata": {
        "id": "En1Lbijbz0b2"
      }
    },
    {
      "cell_type": "code",
      "source": [
        "# show the value counts of the 'drain_length(um)' column\n",
        "df[\"drain_length(um)\"].value_counts()\n",
        "\n",
        "#this is another way to get the same information\n",
        "# df[\"drain_length(um)\"].unique()"
      ],
      "metadata": {
        "colab": {
          "base_uri": "https://localhost:8080/"
        },
        "id": "G0NRm76szq_0",
        "outputId": "193e37fa-888f-4d3b-b261-e9d2496eb773"
      },
      "execution_count": 12,
      "outputs": [
        {
          "output_type": "execute_result",
          "data": {
            "text/plain": [
              "0.3    871488\n",
              "Name: drain_length(um), dtype: int64"
            ]
          },
          "metadata": {},
          "execution_count": 12
        }
      ]
    },
    {
      "cell_type": "markdown",
      "source": [
        "as we saw the 'drain_length(um)' column also contains only one unique value, thus the entropy of this column is almost zero, and thus the information included in this column also almost zero, so in the context of feature engineering we can drop this column safely, to reduce the curse of dimentionality further."
      ],
      "metadata": {
        "id": "XQ66pYok0K7T"
      }
    },
    {
      "cell_type": "code",
      "source": [
        "# drop the 'temperature' column from df, due to the reason i explained above\n",
        "df.drop(columns='drain_length(um)', inplace=True)"
      ],
      "metadata": {
        "id": "mrIyDJq22WqQ"
      },
      "execution_count": 13,
      "outputs": []
    },
    {
      "cell_type": "markdown",
      "source": [
        "note that we can get the same result of droping the columns with the low std using the method of\n",
        "```sklearn.feature_selection.VarianceThreshold```\n"
      ],
      "metadata": {
        "id": "r_lB32P_4GRS"
      }
    },
    {
      "cell_type": "code",
      "source": [
        "# show the dimentions of df\n",
        "df.shape"
      ],
      "metadata": {
        "id": "aFC2AENoMYc2",
        "colab": {
          "base_uri": "https://localhost:8080/"
        },
        "outputId": "3217bd85-4bf5-404b-f4dd-48ccde95bc29"
      },
      "execution_count": 14,
      "outputs": [
        {
          "output_type": "execute_result",
          "data": {
            "text/plain": [
              "(871488, 7)"
            ]
          },
          "metadata": {},
          "execution_count": 14
        }
      ]
    },
    {
      "cell_type": "code",
      "source": [
        "# show the columns names of df after droping the 'temperature' column\n",
        "df.columns"
      ],
      "metadata": {
        "colab": {
          "base_uri": "https://localhost:8080/"
        },
        "id": "H2LkR3AEqBPl",
        "outputId": "f84671e6-29af-4407-aadf-12e0b3ce1929"
      },
      "execution_count": 15,
      "outputs": [
        {
          "output_type": "execute_result",
          "data": {
            "text/plain": [
              "Index(['vds', 'L(um)', 'W(um)', 'vgs', 'vsb', 'corner', 'id(uA)'], dtype='object')"
            ]
          },
          "metadata": {},
          "execution_count": 15
        }
      ]
    },
    {
      "cell_type": "markdown",
      "source": [
        "let's visualize the data to understand the data"
      ],
      "metadata": {
        "id": "QTKXv5Cif5EP"
      }
    },
    {
      "cell_type": "code",
      "source": [
        "# plot the values and value counts of 'L(um)' column\n",
        "df['L(um)'].value_counts().plot(kind='bar', title='L(um) bar-plot')\n",
        "plt.xlabel('L(um) values')\n",
        "plt.ylabel('frequency')\n",
        "plt.show()"
      ],
      "metadata": {
        "colab": {
          "base_uri": "https://localhost:8080/",
          "height": 488
        },
        "id": "Qhv6SxmW6k4A",
        "outputId": "b85f23f2-6ccd-4498-f717-f6300091237e"
      },
      "execution_count": 16,
      "outputs": [
        {
          "output_type": "display_data",
          "data": {
            "text/plain": [
              "<Figure size 640x480 with 1 Axes>"
            ],
            "image/png": "[encoded data removed]"
          },
          "metadata": {}
        }
      ]
    },
    {
      "cell_type": "code",
      "source": [
        "# plot the values and value counts of 'W(um)' column\n",
        "df['W(um)'].value_counts().plot(kind='bar', title='W(um) bar-plot')\n",
        "plt.xlabel('W(um) values')\n",
        "plt.ylabel('frequency')\n",
        "plt.show()"
      ],
      "metadata": {
        "colab": {
          "base_uri": "https://localhost:8080/",
          "height": 488
        },
        "id": "NEjyr2OY7Bol",
        "outputId": "62a2dcd8-c65b-4177-9dba-3e2adcaaf89e"
      },
      "execution_count": 17,
      "outputs": [
        {
          "output_type": "display_data",
          "data": {
            "text/plain": [
              "<Figure size 640x480 with 1 Axes>"
            ],
            "image/png": "[encoded data removed]"
          },
          "metadata": {}
        }
      ]
    },
    {
      "cell_type": "code",
      "source": [
        "# plot the values and value counts of 'vgs' column\n",
        "df['vgs'].value_counts().plot(kind='bar', title='vgs bar-plot')\n",
        "plt.xlabel('vgs values')\n",
        "plt.ylabel('frequency')\n",
        "plt.show()"
      ],
      "metadata": {
        "colab": {
          "base_uri": "https://localhost:8080/",
          "height": 489
        },
        "id": "oIDWss8I7CRw",
        "outputId": "c22ff20b-6496-4541-82f9-7abf8a7a3a83"
      },
      "execution_count": 18,
      "outputs": [
        {
          "output_type": "display_data",
          "data": {
            "text/plain": [
              "<Figure size 640x480 with 1 Axes>"
            ],
            "image/png": "[encoded data removed]"
          },
          "metadata": {}
        }
      ]
    },
    {
      "cell_type": "code",
      "source": [
        "# plot the values and value counts of 'vsb' column\n",
        "df['vsb'].value_counts().plot(kind='bar', rot=0, title='vsb bar-plot')\n",
        "plt.xlabel('vsb values')\n",
        "plt.ylabel('frequency')\n",
        "plt.show()"
      ],
      "metadata": {
        "colab": {
          "base_uri": "https://localhost:8080/",
          "height": 472
        },
        "id": "6ERFGHAd7Cf_",
        "outputId": "0324dd26-b6b7-42a2-e57f-4e6160786444"
      },
      "execution_count": 19,
      "outputs": [
        {
          "output_type": "display_data",
          "data": {
            "text/plain": [
              "<Figure size 640x480 with 1 Axes>"
            ],
            "image/png": "[encoded data removed]"
          },
          "metadata": {}
        }
      ]
    },
    {
      "cell_type": "code",
      "source": [
        "# plot the values and value counts of 'corner' column\n",
        "df['corner'].value_counts().plot(kind='bar', rot=0, title='corner bar-plot')\n",
        "plt.xlabel('corner values')\n",
        "plt.ylabel('frequency')\n",
        "plt.show()"
      ],
      "metadata": {
        "colab": {
          "base_uri": "https://localhost:8080/",
          "height": 472
        },
        "id": "1d8vwaXz7Csa",
        "outputId": "21c4b9ec-8e2e-48ba-dd0b-925ccebe3983"
      },
      "execution_count": 20,
      "outputs": [
        {
          "output_type": "display_data",
          "data": {
            "text/plain": [
              "<Figure size 640x480 with 1 Axes>"
            ],
            "image/png": "[encoded data removed]"
          },
          "metadata": {}
        }
      ]
    },
    {
      "cell_type": "code",
      "source": [
        "# plot the values and value counts histogram of 'vds' column\n",
        "df['vds'].value_counts().plot(kind='hist', title='vds histogram-plot')\n",
        "plt.xlabel('vds values')\n",
        "plt.show()"
      ],
      "metadata": {
        "colab": {
          "base_uri": "https://localhost:8080/",
          "height": 472
        },
        "id": "-_h8_iW97C4a",
        "outputId": "23967ee3-9f5f-4003-975e-a6aa5ba19afe"
      },
      "execution_count": 21,
      "outputs": [
        {
          "output_type": "display_data",
          "data": {
            "text/plain": [
              "<Figure size 640x480 with 1 Axes>"
            ],
            "image/png": "[encoded data removed]"
          },
          "metadata": {}
        }
      ]
    },
    {
      "cell_type": "code",
      "source": [
        "# plot the values and value counts histogram of 'id(uA)' column\n",
        "df['id(uA)'].value_counts().plot(kind='hist', title=\"id(uA) histogram\")\n",
        "plt.xlabel('id(uA) values')\n",
        "plt.show()"
      ],
      "metadata": {
        "colab": {
          "base_uri": "https://localhost:8080/",
          "height": 472
        },
        "id": "5N1YHrH47DFw",
        "outputId": "d8e2f088-b3cb-419d-fac5-dbc463c848f0"
      },
      "execution_count": 22,
      "outputs": [
        {
          "output_type": "display_data",
          "data": {
            "text/plain": [
              "<Figure size 640x480 with 1 Axes>"
            ],
            "image/png": "[encoded data removed]"
          },
          "metadata": {}
        }
      ]
    },
    {
      "cell_type": "code",
      "source": [
        "# the histogram plot of id(uA) doesn't show the value counts, so let's try the value_counts method\n",
        "df[\"id(uA)\"].value_counts(ascending=False)"
      ],
      "metadata": {
        "colab": {
          "base_uri": "https://localhost:8080/"
        },
        "id": "4I3D0eNR5lcq",
        "outputId": "299f50f0-e620-468d-dde7-9b992b9a8b6b"
      },
      "execution_count": 23,
      "outputs": [
        {
          "output_type": "execute_result",
          "data": {
            "text/plain": [
              "0.000000       6528\n",
              "0.001572          2\n",
              "10.337158         2\n",
              "273.748349        2\n",
              "6973.324300       2\n",
              "               ... \n",
              "3532.274880       1\n",
              "2976.492510       1\n",
              "1914.791310       1\n",
              "1416.729150       1\n",
              "4438.762770       1\n",
              "Name: id(uA), Length: 854959, dtype: int64"
            ]
          },
          "metadata": {},
          "execution_count": 23
        }
      ]
    },
    {
      "cell_type": "code",
      "source": [
        "# save df to csv file\n",
        "df.to_csv(\"/content/drive/MyDrive/Mabrains-data/mabrains.csv\", header=True, index=True)"
      ],
      "metadata": {
        "id": "AIMBpgXogpcr"
      },
      "execution_count": 25,
      "outputs": []
    },
    {
      "cell_type": "markdown",
      "source": [
        "This notebook written by Ahmad Salama on September 2023\n",
        "\n",
        "salama4ai@gmail.com\n",
        "\n",
        "[linkedin.com/in/salama4ai](https://www.linkedin.com/in/salama4ai)\n"
      ],
      "metadata": {
        "id": "A_OoZR2SeVA1"
      }
    },
    {
      "cell_type": "code",
      "source": [],
      "metadata": {
        "id": "YwXHurNVdbtJ"
      },
      "execution_count": 23,
      "outputs": []
    }
  ]
}