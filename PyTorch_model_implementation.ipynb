{
  "cells": [
    {
      "cell_type": "markdown",
      "metadata": {
        "id": "view-in-github",
        "colab_type": "text"
      },
      "source": [
        "<a href=\"https://colab.research.google.com/github/salama4ai/AI-project/blob/main/PyTorch_model_implementation.ipynb\" target=\"_parent\"><img src=\"https://colab.research.google.com/assets/colab-badge.svg\" alt=\"Open In Colab\"/></a>"
      ]
    },
    {
      "cell_type": "markdown",
      "metadata": {
        "id": "5-w-RKgEyo8V"
      },
      "source": [
        "# This notebook is for preprocessing the data and implementing the model using Pytorch library"
      ]
    },
    {
      "cell_type": "code",
      "execution_count": 19,
      "metadata": {
        "colab": {
          "base_uri": "https://localhost:8080/"
        },
        "id": "ajVUf3e6aaIk",
        "outputId": "c0685a37-e716-4b11-fd75-72cb1d434f89"
      },
      "outputs": [
        {
          "output_type": "stream",
          "name": "stdout",
          "text": [
            "Requirement already satisfied: torchmetrics in /usr/local/lib/python3.10/dist-packages (1.2.0)\n",
            "Requirement already satisfied: numpy>1.20.0 in /usr/local/lib/python3.10/dist-packages (from torchmetrics) (1.23.5)\n",
            "Requirement already satisfied: torch>=1.8.1 in /usr/local/lib/python3.10/dist-packages (from torchmetrics) (2.0.1+cu118)\n",
            "Requirement already satisfied: lightning-utilities>=0.8.0 in /usr/local/lib/python3.10/dist-packages (from torchmetrics) (0.9.0)\n",
            "Requirement already satisfied: packaging>=17.1 in /usr/local/lib/python3.10/dist-packages (from lightning-utilities>=0.8.0->torchmetrics) (23.2)\n",
            "Requirement already satisfied: typing-extensions in /usr/local/lib/python3.10/dist-packages (from lightning-utilities>=0.8.0->torchmetrics) (4.5.0)\n",
            "Requirement already satisfied: filelock in /usr/local/lib/python3.10/dist-packages (from torch>=1.8.1->torchmetrics) (3.12.4)\n",
            "Requirement already satisfied: sympy in /usr/local/lib/python3.10/dist-packages (from torch>=1.8.1->torchmetrics) (1.12)\n",
            "Requirement already satisfied: networkx in /usr/local/lib/python3.10/dist-packages (from torch>=1.8.1->torchmetrics) (3.1)\n",
            "Requirement already satisfied: jinja2 in /usr/local/lib/python3.10/dist-packages (from torch>=1.8.1->torchmetrics) (3.1.2)\n",
            "Requirement already satisfied: triton==2.0.0 in /usr/local/lib/python3.10/dist-packages (from torch>=1.8.1->torchmetrics) (2.0.0)\n",
            "Requirement already satisfied: cmake in /usr/local/lib/python3.10/dist-packages (from triton==2.0.0->torch>=1.8.1->torchmetrics) (3.27.6)\n",
            "Requirement already satisfied: lit in /usr/local/lib/python3.10/dist-packages (from triton==2.0.0->torch>=1.8.1->torchmetrics) (17.0.2)\n",
            "Requirement already satisfied: MarkupSafe>=2.0 in /usr/local/lib/python3.10/dist-packages (from jinja2->torch>=1.8.1->torchmetrics) (2.1.3)\n",
            "Requirement already satisfied: mpmath>=0.19 in /usr/local/lib/python3.10/dist-packages (from sympy->torch>=1.8.1->torchmetrics) (1.3.0)\n"
          ]
        }
      ],
      "source": [
        "# installing torchmetrics library to our colab notebook\n",
        "!pip install torchmetrics\n",
        "\n",
        "# importing the libraries\n",
        "import os\n",
        "import random\n",
        "import numpy as np\n",
        "import pandas as pd\n",
        "from matplotlib import pyplot as plt\n",
        "import time\n",
        "from tqdm import tqdm\n",
        "import joblib\n",
        "import pickle\n",
        "\n",
        "import torch\n",
        "import torch.nn as nn\n",
        "import torch.nn.functional as F\n",
        "from torch.utils.data import Dataset, DataLoader, TensorDataset\n",
        "from torchmetrics.regression import R2Score, MeanAbsolutePercentageError\n",
        "\n",
        "from sklearn.model_selection import train_test_split\n",
        "from sklearn.compose import make_column_transformer\n",
        "from sklearn.model_selection import GridSearchCV\n",
        "from sklearn.preprocessing import OneHotEncoder\n"
      ]
    },
    {
      "cell_type": "code",
      "execution_count": 20,
      "metadata": {
        "id": "KmmhSZl2NboD",
        "colab": {
          "base_uri": "https://localhost:8080/"
        },
        "outputId": "c3844cbc-9c13-433c-b62d-94e4a5a7b21d"
      },
      "outputs": [
        {
          "output_type": "stream",
          "name": "stdout",
          "text": [
            "using version 2.0.1+cu118\n"
          ]
        }
      ],
      "source": [
        "# this line to select the GPU as an engine for doing the work if it's possible, else it selects the 'cpu'\n",
        "device = torch.device(\"cuda\" if torch.cuda.is_available() else \"cpu\")\n",
        "\n",
        "# printing pytorch version as this point may affect the reproducability if diffrent pytorch version used\n",
        "print(f'using version {torch.__version__}')\n",
        "\n",
        "# This function to be able to reproduce the same numbers in the future, by fixing\n",
        "# the algorithms parameters that lead to generate the same random numbers\n",
        "\n",
        "# fix random number generation aka regenerate the same random numbers every time (such as weight and bias initialization )\n",
        "def set_random_seed(seed=7, deterministic=True):\n",
        "    \"\"\"Set random seed, for python, numpy, pytorch\n",
        "\n",
        "    Args:\n",
        "        seed (int): Seed to be used.\n",
        "        deterministic (bool): Whether to set the deterministic option for\n",
        "            CUDNN backend, i.e., set `torch.backends.cudnn.deterministic`\n",
        "            to True and `torch.backends.cudnn.benchmark` to False.\n",
        "            Default: True.\n",
        "    \"\"\"\n",
        "    # set seed for python random numbers.\n",
        "    random.seed(seed)\n",
        "    # set seed for numpy random numbers.\n",
        "    np.random.seed(seed)\n",
        "    # set seed for pytorch random numbers.\n",
        "    torch.manual_seed(seed)\n",
        "    # set seed for cuda.\n",
        "    torch.cuda.manual_seed_all(seed)\n",
        "    if deterministic:\n",
        "        torch.backends.cudnn.deterministic = True\n",
        "        torch.backends.cudnn.benchmark = False\n",
        "\n",
        "# select random seed number\n",
        "seed=7\n",
        "\n",
        "# call the function\n",
        "set_random_seed(seed=seed)"
      ]
    },
    {
      "cell_type": "code",
      "execution_count": 21,
      "metadata": {
        "id": "2SVcNrWoadhX"
      },
      "outputs": [],
      "source": [
        "# read the csv data file\n",
        "x = pd.read_csv(\"/content/drive/MyDrive/Mabrains-project/Mabrains-data/mabrains.csv\")"
      ]
    },
    {
      "cell_type": "code",
      "execution_count": 22,
      "metadata": {
        "colab": {
          "base_uri": "https://localhost:8080/",
          "height": 206
        },
        "id": "AbLzHvfEb7Nf",
        "outputId": "7093ac86-8888-43fb-cbf5-be4f6724819e"
      },
      "outputs": [
        {
          "output_type": "execute_result",
          "data": {
            "text/plain": [
              "    vds  L(um)  W(um)  vgs  vsb corner    id(uA)\n",
              "0 -0.45    8.0   0.84  0.0  0.0     tt  0.034866\n",
              "1 -0.40    8.0   0.84  0.0  0.0     tt  0.009451\n",
              "2 -0.35    8.0   0.84  0.0  0.0     tt  0.002331\n",
              "3 -0.30    8.0   0.84  0.0  0.0     tt  0.000532\n",
              "4 -0.25    8.0   0.84  0.0  0.0     tt  0.000111"
            ],
            "text/html": [
              "\n",
              "  <div id=\"df-5c3550ec-e328-466e-b8da-d8d51f5bac11\" class=\"colab-df-container\">\n",
              "    <div>\n",
              "<style scoped>\n",
              "    .dataframe tbody tr th:only-of-type {\n",
              "        vertical-align: middle;\n",
              "    }\n",
              "\n",
              "    .dataframe tbody tr th {\n",
              "        vertical-align: top;\n",
              "    }\n",
              "\n",
              "    .dataframe thead th {\n",
              "        text-align: right;\n",
              "    }\n",
              "</style>\n",
              "<table border=\"1\" class=\"dataframe\">\n",
              "  <thead>\n",
              "    <tr style=\"text-align: right;\">\n",
              "      <th></th>\n",
              "      <th>vds</th>\n",
              "      <th>L(um)</th>\n",
              "      <th>W(um)</th>\n",
              "      <th>vgs</th>\n",
              "      <th>vsb</th>\n",
              "      <th>corner</th>\n",
              "      <th>id(uA)</th>\n",
              "    </tr>\n",
              "  </thead>\n",
              "  <tbody>\n",
              "    <tr>\n",
              "      <th>0</th>\n",
              "      <td>-0.45</td>\n",
              "      <td>8.0</td>\n",
              "      <td>0.84</td>\n",
              "      <td>0.0</td>\n",
              "      <td>0.0</td>\n",
              "      <td>tt</td>\n",
              "      <td>0.034866</td>\n",
              "    </tr>\n",
              "    <tr>\n",
              "      <th>1</th>\n",
              "      <td>-0.40</td>\n",
              "      <td>8.0</td>\n",
              "      <td>0.84</td>\n",
              "      <td>0.0</td>\n",
              "      <td>0.0</td>\n",
              "      <td>tt</td>\n",
              "      <td>0.009451</td>\n",
              "    </tr>\n",
              "    <tr>\n",
              "      <th>2</th>\n",
              "      <td>-0.35</td>\n",
              "      <td>8.0</td>\n",
              "      <td>0.84</td>\n",
              "      <td>0.0</td>\n",
              "      <td>0.0</td>\n",
              "      <td>tt</td>\n",
              "      <td>0.002331</td>\n",
              "    </tr>\n",
              "    <tr>\n",
              "      <th>3</th>\n",
              "      <td>-0.30</td>\n",
              "      <td>8.0</td>\n",
              "      <td>0.84</td>\n",
              "      <td>0.0</td>\n",
              "      <td>0.0</td>\n",
              "      <td>tt</td>\n",
              "      <td>0.000532</td>\n",
              "    </tr>\n",
              "    <tr>\n",
              "      <th>4</th>\n",
              "      <td>-0.25</td>\n",
              "      <td>8.0</td>\n",
              "      <td>0.84</td>\n",
              "      <td>0.0</td>\n",
              "      <td>0.0</td>\n",
              "      <td>tt</td>\n",
              "      <td>0.000111</td>\n",
              "    </tr>\n",
              "  </tbody>\n",
              "</table>\n",
              "</div>\n",
              "    <div class=\"colab-df-buttons\">\n",
              "\n",
              "  <div class=\"colab-df-container\">\n",
              "    <button class=\"colab-df-convert\" onclick=\"convertToInteractive('df-5c3550ec-e328-466e-b8da-d8d51f5bac11')\"\n",
              "            title=\"Convert this dataframe to an interactive table.\"\n",
              "            style=\"display:none;\">\n",
              "\n",
              "  <svg xmlns=\"http://www.w3.org/2000/svg\" height=\"24px\" viewBox=\"0 -960 960 960\">\n",
              "    <path d=\"M120-120v-720h720v720H120Zm60-500h600v-160H180v160Zm220 220h160v-160H400v160Zm0 220h160v-160H400v160ZM180-400h160v-160H180v160Zm440 0h160v-160H620v160ZM180-180h160v-160H180v160Zm440 0h160v-160H620v160Z\"/>\n",
              "  </svg>\n",
              "    </button>\n",
              "\n",
              "  <style>\n",
              "    .colab-df-container {\n",
              "      display:flex;\n",
              "      gap: 12px;\n",
              "    }\n",
              "\n",
              "    .colab-df-convert {\n",
              "      background-color: #E8F0FE;\n",
              "      border: none;\n",
              "      border-radius: 50%;\n",
              "      cursor: pointer;\n",
              "      display: none;\n",
              "      fill: #1967D2;\n",
              "      height: 32px;\n",
              "      padding: 0 0 0 0;\n",
              "      width: 32px;\n",
              "    }\n",
              "\n",
              "    .colab-df-convert:hover {\n",
              "      background-color: #E2EBFA;\n",
              "      box-shadow: 0px 1px 2px rgba(60, 64, 67, 0.3), 0px 1px 3px 1px rgba(60, 64, 67, 0.15);\n",
              "      fill: #174EA6;\n",
              "    }\n",
              "\n",
              "    .colab-df-buttons div {\n",
              "      margin-bottom: 4px;\n",
              "    }\n",
              "\n",
              "    [theme=dark] .colab-df-convert {\n",
              "      background-color: #3B4455;\n",
              "      fill: #D2E3FC;\n",
              "    }\n",
              "\n",
              "    [theme=dark] .colab-df-convert:hover {\n",
              "      background-color: #434B5C;\n",
              "      box-shadow: 0px 1px 3px 1px rgba(0, 0, 0, 0.15);\n",
              "      filter: drop-shadow(0px 1px 2px rgba(0, 0, 0, 0.3));\n",
              "      fill: #FFFFFF;\n",
              "    }\n",
              "  </style>\n",
              "\n",
              "    <script>\n",
              "      const buttonEl =\n",
              "        document.querySelector('#df-5c3550ec-e328-466e-b8da-d8d51f5bac11 button.colab-df-convert');\n",
              "      buttonEl.style.display =\n",
              "        google.colab.kernel.accessAllowed ? 'block' : 'none';\n",
              "\n",
              "      async function convertToInteractive(key) {\n",
              "        const element = document.querySelector('#df-5c3550ec-e328-466e-b8da-d8d51f5bac11');\n",
              "        const dataTable =\n",
              "          await google.colab.kernel.invokeFunction('convertToInteractive',\n",
              "                                                    [key], {});\n",
              "        if (!dataTable) return;\n",
              "\n",
              "        const docLinkHtml = 'Like what you see? Visit the ' +\n",
              "          '<a target=\"_blank\" href=https://colab.research.google.com/notebooks/data_table.ipynb>data table notebook</a>'\n",
              "          + ' to learn more about interactive tables.';\n",
              "        element.innerHTML = '';\n",
              "        dataTable['output_type'] = 'display_data';\n",
              "        await google.colab.output.renderOutput(dataTable, element);\n",
              "        const docLink = document.createElement('div');\n",
              "        docLink.innerHTML = docLinkHtml;\n",
              "        element.appendChild(docLink);\n",
              "      }\n",
              "    </script>\n",
              "  </div>\n",
              "\n",
              "\n",
              "<div id=\"df-503d5db3-aa01-4d2b-b276-2796f971d15b\">\n",
              "  <button class=\"colab-df-quickchart\" onclick=\"quickchart('df-503d5db3-aa01-4d2b-b276-2796f971d15b')\"\n",
              "            title=\"Suggest charts.\"\n",
              "            style=\"display:none;\">\n",
              "\n",
              "<svg xmlns=\"http://www.w3.org/2000/svg\" height=\"24px\"viewBox=\"0 0 24 24\"\n",
              "     width=\"24px\">\n",
              "    <g>\n",
              "        <path d=\"M19 3H5c-1.1 0-2 .9-2 2v14c0 1.1.9 2 2 2h14c1.1 0 2-.9 2-2V5c0-1.1-.9-2-2-2zM9 17H7v-7h2v7zm4 0h-2V7h2v10zm4 0h-2v-4h2v4z\"/>\n",
              "    </g>\n",
              "</svg>\n",
              "  </button>\n",
              "\n",
              "<style>\n",
              "  .colab-df-quickchart {\n",
              "      --bg-color: #E8F0FE;\n",
              "      --fill-color: #1967D2;\n",
              "      --hover-bg-color: #E2EBFA;\n",
              "      --hover-fill-color: #174EA6;\n",
              "      --disabled-fill-color: #AAA;\n",
              "      --disabled-bg-color: #DDD;\n",
              "  }\n",
              "\n",
              "  [theme=dark] .colab-df-quickchart {\n",
              "      --bg-color: #3B4455;\n",
              "      --fill-color: #D2E3FC;\n",
              "      --hover-bg-color: #434B5C;\n",
              "      --hover-fill-color: #FFFFFF;\n",
              "      --disabled-bg-color: #3B4455;\n",
              "      --disabled-fill-color: #666;\n",
              "  }\n",
              "\n",
              "  .colab-df-quickchart {\n",
              "    background-color: var(--bg-color);\n",
              "    border: none;\n",
              "    border-radius: 50%;\n",
              "    cursor: pointer;\n",
              "    display: none;\n",
              "    fill: var(--fill-color);\n",
              "    height: 32px;\n",
              "    padding: 0;\n",
              "    width: 32px;\n",
              "  }\n",
              "\n",
              "  .colab-df-quickchart:hover {\n",
              "    background-color: var(--hover-bg-color);\n",
              "    box-shadow: 0 1px 2px rgba(60, 64, 67, 0.3), 0 1px 3px 1px rgba(60, 64, 67, 0.15);\n",
              "    fill: var(--button-hover-fill-color);\n",
              "  }\n",
              "\n",
              "  .colab-df-quickchart-complete:disabled,\n",
              "  .colab-df-quickchart-complete:disabled:hover {\n",
              "    background-color: var(--disabled-bg-color);\n",
              "    fill: var(--disabled-fill-color);\n",
              "    box-shadow: none;\n",
              "  }\n",
              "\n",
              "  .colab-df-spinner {\n",
              "    border: 2px solid var(--fill-color);\n",
              "    border-color: transparent;\n",
              "    border-bottom-color: var(--fill-color);\n",
              "    animation:\n",
              "      spin 1s steps(1) infinite;\n",
              "  }\n",
              "\n",
              "  @keyframes spin {\n",
              "    0% {\n",
              "      border-color: transparent;\n",
              "      border-bottom-color: var(--fill-color);\n",
              "      border-left-color: var(--fill-color);\n",
              "    }\n",
              "    20% {\n",
              "      border-color: transparent;\n",
              "      border-left-color: var(--fill-color);\n",
              "      border-top-color: var(--fill-color);\n",
              "    }\n",
              "    30% {\n",
              "      border-color: transparent;\n",
              "      border-left-color: var(--fill-color);\n",
              "      border-top-color: var(--fill-color);\n",
              "      border-right-color: var(--fill-color);\n",
              "    }\n",
              "    40% {\n",
              "      border-color: transparent;\n",
              "      border-right-color: var(--fill-color);\n",
              "      border-top-color: var(--fill-color);\n",
              "    }\n",
              "    60% {\n",
              "      border-color: transparent;\n",
              "      border-right-color: var(--fill-color);\n",
              "    }\n",
              "    80% {\n",
              "      border-color: transparent;\n",
              "      border-right-color: var(--fill-color);\n",
              "      border-bottom-color: var(--fill-color);\n",
              "    }\n",
              "    90% {\n",
              "      border-color: transparent;\n",
              "      border-bottom-color: var(--fill-color);\n",
              "    }\n",
              "  }\n",
              "</style>\n",
              "\n",
              "  <script>\n",
              "    async function quickchart(key) {\n",
              "      const quickchartButtonEl =\n",
              "        document.querySelector('#' + key + ' button');\n",
              "      quickchartButtonEl.disabled = true;  // To prevent multiple clicks.\n",
              "      quickchartButtonEl.classList.add('colab-df-spinner');\n",
              "      try {\n",
              "        const charts = await google.colab.kernel.invokeFunction(\n",
              "            'suggestCharts', [key], {});\n",
              "      } catch (error) {\n",
              "        console.error('Error during call to suggestCharts:', error);\n",
              "      }\n",
              "      quickchartButtonEl.classList.remove('colab-df-spinner');\n",
              "      quickchartButtonEl.classList.add('colab-df-quickchart-complete');\n",
              "    }\n",
              "    (() => {\n",
              "      let quickchartButtonEl =\n",
              "        document.querySelector('#df-503d5db3-aa01-4d2b-b276-2796f971d15b button');\n",
              "      quickchartButtonEl.style.display =\n",
              "        google.colab.kernel.accessAllowed ? 'block' : 'none';\n",
              "    })();\n",
              "  </script>\n",
              "</div>\n",
              "    </div>\n",
              "  </div>\n"
            ]
          },
          "metadata": {},
          "execution_count": 22
        }
      ],
      "source": [
        "# show the first 5 rows\n",
        "x.head()"
      ]
    },
    {
      "cell_type": "markdown",
      "metadata": {
        "id": "UMOaK3MKqgV9"
      },
      "source": [
        "# Preprocessing & Feature-Engineering"
      ]
    },
    {
      "cell_type": "markdown",
      "metadata": {
        "id": "VpxcfrGudprU"
      },
      "source": [
        "1- i will convert corner column into one hot encoded columns\n",
        "\n",
        "2- i will write the equation of id as a code and use it to calculate id\n",
        "\n",
        "3- also as i showed in the EDA note book that 'Temperature' and 'drain_length(um)' columns can be deleted safely as each of them contains only a single unique repeated value, thus the entropy in each of them are zero and the information that they will contripute to the model are also zeros, so removing them will not represent any losing, yet by including them in the model we increase curse-of-dimentionality and make it's harded for the model to extract the underlying knowledge from the other columns."
      ]
    },
    {
      "cell_type": "code",
      "execution_count": 23,
      "metadata": {
        "id": "9PL3hFx-Llwc"
      },
      "outputs": [],
      "source": [
        "# separate the output(or label or target) column from the features(input) columns, where 'x' the feature columns, and 'y' is the target column\n",
        "y = x.pop(\"id(uA)\")\n",
        "\n",
        "# split the train and test sets and the coresponding labels\n",
        "xtrain_unprocessed, xtest_unprocessed, ytrain, ytest = train_test_split(x, y, test_size=0.21, random_state=seed, shuffle=True)\n",
        "\n",
        "# apply the needed transformations over the determined columns\n",
        "col_trans1 = make_column_transformer((\"passthrough\", ['vds', 'vgs', 'vsb', 'W(um)', 'L(um)']),\n",
        "                                    (OneHotEncoder(handle_unknown=\"infrequent_if_exist\"), ['corner']),\n",
        "                                     remainder=\"drop\",\n",
        "                                     n_jobs=-1)\n",
        "\n",
        "# apply the needed transformations over the training data\n",
        "xtrain = col_trans1.fit_transform(xtrain_unprocessed)\n",
        "\n",
        "# apply the needed transformations over the testing data\n",
        "xtest = col_trans1.transform(xtest_unprocessed)"
      ]
    },
    {
      "cell_type": "code",
      "execution_count": 24,
      "metadata": {
        "id": "P6rGheIAArUu"
      },
      "outputs": [],
      "source": [
        "class CollectedData(Dataset):\n",
        "    '''create the class to deal with the data convert them into torch tensors, getting the data item and getting the length of the data'''\n",
        "\n",
        "    def __init__(self, x, y):\n",
        "        self.data = torch.tensor(x)\n",
        "        self.label = torch.tensor(y.values)\n",
        "        self.n_smpl = x.shape[0]\n",
        "\n",
        "\n",
        "    def __getitem__(self, idx):\n",
        "        '''return the data sample given the index'''\n",
        "\n",
        "        # return the features and the corresponding label of the given index\n",
        "        # i convert them to float to solve an error appears while train the model\n",
        "        return self.data[idx].float(), self.label[idx].float()\n",
        "\n",
        "    def __len__(self):\n",
        "        '''function to return the length of the dataset'''\n",
        "\n",
        "        # return the length of the dataset\n",
        "        return self.n_smpl\n",
        "\n",
        "#compine the features and the corresponding labels into one object\n",
        "train_set = CollectedData(xtrain, ytrain)\n",
        "\n",
        "#compine the features and the corresponding labels into one object\n",
        "test_set = CollectedData(xtest, ytest)"
      ]
    },
    {
      "cell_type": "code",
      "execution_count": 25,
      "metadata": {
        "id": "VlgjN9U9A4lc"
      },
      "outputs": [],
      "source": [
        "## almost the same result of the brevious cell, using another way.\n",
        "# # train_set, test_set = torch.utils.data.random_split(dataset, [len(dataset)-test_len, int(len(dataset)*0.2)])\n",
        "\n",
        "# train_labels = torch.tensor(ytrain.values.astype(np.float32))\n",
        "# # test_labels = torch.tensor(ytest.values.astype(np.float32))\n",
        "# train_input = torch.tensor(xtrain.values.astype(np.float32))\n",
        "# # test_input = torch.tensor(xtest.values.astype(np.float32))\n",
        "\n",
        "# train_set = TensorDataset(train_input, train_labels)\n",
        "# # test_set = TensorDataset(test_input, test_labels)\n"
      ]
    },
    {
      "cell_type": "code",
      "execution_count": 26,
      "metadata": {
        "id": "oIAP1h5YBAzE"
      },
      "outputs": [],
      "source": [
        "# initializing R2Score function\n",
        "r2score = R2Score(num_outputs=1, adjusted=0)\n",
        "\n",
        "#initializing mean-square-error function\n",
        "Mean_Square_Error = nn.MSELoss()\n",
        "\n",
        "# initializing the mean_absolute_percentage_error function\n",
        "mean_absolute_percentage_error = MeanAbsolutePercentageError()\n",
        "\n",
        "# evaluate the performance using the R2Score and mean-square-error pytorch functions\n",
        "@torch.no_grad()\n",
        "def evaluate_model(model, data_loader):\n",
        "    '''this function is to evaluate the performance of the model using R2Score and mean-square-error pytorch functions'''\n",
        "\n",
        "    # Set the model to eval mode while validating\n",
        "    model.eval()\n",
        "\n",
        "    # initialize the labels and preds and transfering them to device(cpu or gpu)\n",
        "    labels = torch.tensor([]).to(device)\n",
        "    predictions = torch.tensor([]).to(device)\n",
        "\n",
        "    # starting the loop over data\n",
        "    for features, label in data_loader:\n",
        "\n",
        "        # transfering data to cuda\n",
        "        features = features.to(device=device)\n",
        "\n",
        "        # concatenate all the labels\n",
        "        labels = torch.cat((labels, label), dim=-1)\n",
        "\n",
        "        # get the model predictions of the given data and flatten them\n",
        "        preds = model(features).reshape(-1)\n",
        "\n",
        "        # concatenate all the predictions\n",
        "        predictions = torch.cat((preds, predictions), dim=-1)\n",
        "\n",
        "    # calculate the r2score\n",
        "    r2score_evaluation = r2score(predictions, labels)\n",
        "\n",
        "    # calculate mean square error loss\n",
        "    mean_square_error_evaluation = Mean_Square_Error(predictions, labels)\n",
        "\n",
        "    # calculate the mean_absolute_percentage_error_evaluation\n",
        "    mean_absolute_percentage_error_evaluation = mean_absolute_percentage_error(predictions, labels)\n",
        "\n",
        "    # evaluation metric\n",
        "    model_evaluations = np.array([r2score_evaluation, mean_square_error_evaluation, mean_absolute_percentage_error_evaluation])\n",
        "\n",
        "    # return the model to the train mode.\n",
        "    model.train()\n",
        "\n",
        "    # return the r2score_accuracy result\n",
        "    return model_evaluations"
      ]
    },
    {
      "cell_type": "markdown",
      "source": [
        "i will inject the equation to the model in the last layers why? to increase the effect of the equation over the final model output as it added to the last model layers"
      ],
      "metadata": {
        "id": "M5ioZXtRMjHq"
      }
    },
    {
      "cell_type": "code",
      "execution_count": 27,
      "metadata": {
        "id": "3X-I6OxsLKOv"
      },
      "outputs": [],
      "source": [
        "class network(nn.Module):\n",
        "    '''create the structure of the model'''\n",
        "\n",
        "    def __init__(self, in_features=6, out_features=1):\n",
        "        '''like a class constructor function or initialization'''\n",
        "\n",
        "        super().__init__()\n",
        "        self.mc = nn.Parameter(torch.rand(1, requires_grad=True, dtype=torch.float32))\n",
        "        self.vt = nn.Parameter(torch.rand(1, requires_grad=True, dtype=torch.float32))\n",
        "\n",
        "        # the fully connected layers\n",
        "        self.fc1 = nn.Linear(in_features, 30)\n",
        "        self.fc2 = nn.Linear(30, 3)\n",
        "        self.fc3 = nn.Linear(4, 33)\n",
        "        self.fc4 = nn.Linear(33, 15)\n",
        "        self.fc5 = nn.Linear(15, out_features)\n",
        "\n",
        "        # initialize the model parameters(weights, bias)\n",
        "        self.initialize_weights()\n",
        "\n",
        "    def forward(self, features):\n",
        "        '''this the forward path of the model'''\n",
        "\n",
        "        # caution:- if you change the order of feature columns you need to adjust these order also\n",
        "        self.vds = features[:, 0]\n",
        "        self.vgs = features[:, 1]\n",
        "        self.vsb = features[:, 2]\n",
        "        self.W = features[:, 3]\n",
        "        self.L = features[:, 4]\n",
        "        self.corner = features[:, 5:10]\n",
        "\n",
        "        self.k = self.vds/((self.vgs-self.vt)*(self.vgs-self.vt))\n",
        "        # multiply the equation by 1000 as the id output is in milli.\n",
        "        equation = 1000*(self.W/self.L)*np.square(self.vds)*((self.vgs-self.vt)-self.vds/2)*self.mc*self.k\n",
        "        inpt = torch.cat([self.vsb.view(-1, 1), self.corner], dim=1)\n",
        "\n",
        "        # i used different activation functions to enable the model to select the output without limitation of any activation function\n",
        "        out = F.leaky_relu(self.fc1(inpt))\n",
        "        out = F.tanh(self.fc2(out))\n",
        "        out = torch.cat([equation.view(-1, 1), out], dim=1)\n",
        "        # here i will inject the equation to the model, why? to increase the effect of the equation over the\n",
        "        # final output as it added to the last model layers\n",
        "        out = F.tanh(self.fc3(out))\n",
        "        out = F.leaky_relu(self.fc4(out))\n",
        "        # i used relu at the last layer as the id current is only positive\n",
        "        out = F.relu(self.fc5(out))\n",
        "        return out\n",
        "\n",
        "    def initialize_weights(self):\n",
        "        '''initialize the model parameters(W, b)'''\n",
        "\n",
        "        for m in self.modules():\n",
        "            if isinstance(m, nn.Linear):\n",
        "                nn.init.kaiming_uniform_(m.weight)\n",
        "                nn.init.constant_(m.bias, 0)\n",
        "\n",
        "# initializing the model and convert it to device(gpu or cpu)\n",
        "model = network().to(device)"
      ]
    },
    {
      "cell_type": "code",
      "execution_count": 29,
      "metadata": {
        "id": "eJmx9uZcBKPn"
      },
      "outputs": [],
      "source": [
        " # define the training function.\n",
        "def train_model(num_epochs, data_loader):\n",
        "\n",
        "    # set the number of batches to be the length of 'data_loader'\n",
        "    num_batches = len(data_loader)\n",
        "\n",
        "    # print the hyperparameters informations that the model going to train based on.\n",
        "    print(f\"\"\"batch_size = {batch_size} \\n starting learning rate = {learning_rate} \\n number of epochs = {num_epochs}\\\n",
        "    \\n number of batches = {num_batches} \\n model = {model}, \\n criterion={criterion}, \\n optimizer={optimizer}\"\"\")\n",
        "\n",
        "    # initialize lists to save the training and testing validation progress to be able to plot the results later\n",
        "    evaluations_progress = np.empty(shape=(num_epochs, 2, 3))\n",
        "\n",
        "    # return the model to the train mode.\n",
        "    model.train()\n",
        "\n",
        "    # start the epochs loop\n",
        "    for epoch in range(num_epochs):\n",
        "\n",
        "        # printing out the time which the model starts, to be able to calculate the minuts it take\n",
        "        start_time = time.time()\n",
        "\n",
        "        # initialize progress function that display the progress of the training.\n",
        "        progress = tqdm(enumerate(data_loader), total=num_batches, leave=True)\n",
        "\n",
        "        # starting the training loop for each epoch\n",
        "        for batch_idx, (features, labels) in progress:\n",
        "\n",
        "            # convert data to device\n",
        "            features = features.to(device=device)\n",
        "\n",
        "            # convert labels to device\n",
        "            labels = labels.to(device=device)\n",
        "\n",
        "            # calculate the predictions.\n",
        "            predictions = model(features).reshape(-1)   # reshape(-1 or 0 -the same-) is just as the r2score produce tensor of output shape [batch_size, 1] so to make it's output shape is just [batch_size], i.e flatten it\n",
        "\n",
        "            # calculate the loss.\n",
        "            loss = criterion(predictions, labels)\n",
        "\n",
        "            # back propagation calculations\n",
        "            optimizer.zero_grad()\n",
        "            loss.backward()\n",
        "\n",
        "            # optimization step\n",
        "            optimizer.step()\n",
        "\n",
        "            # determine the information to be showed while training progress and show it\n",
        "            progress.set_description(f\"epoch [{1+epoch}/{num_epochs}], loss={loss.item():0.4f}\")\n",
        "            progress.set_postfix()\n",
        "\n",
        "        # calculate the training evaluations\n",
        "        train_evaluations = evaluate_model(model, data_loader=train_loader)\n",
        "\n",
        "        # calculate the test evaluations\n",
        "        test_evaluations = evaluate_model(model, data_loader=test_loader)\n",
        "\n",
        "        # take learning-rate schedular step\n",
        "        schedular.step(test_evaluations[2])\n",
        "\n",
        "        # printing the important information about the training progress\n",
        "        print(f\"after {1+epoch} epoch, \\ntrain-data evaluation:- r2score = {test_evaluations[0]:.5f}, MSE = {test_evaluations[1]:.2f}, MAPE = {test_evaluations[2]:.5f}\\\n",
        "        \\ntest-data evaluation:- r2score = {test_evaluations[0]:.5f}, MSE = {test_evaluations[1]:.2f}, MAPE = {test_evaluations[2]:.5f}\\\n",
        "        time_elapsed = {((time.time()-start_time)/60):.1f} minuts. \\n\",\"-\"*119)\n",
        "\n",
        "        # add the training evaluations to a list to be able to visulaize the over all progress after the training completed\n",
        "        evaluations_progress[epoch, 0, :] = train_evaluations\n",
        "\n",
        "        # the same but for the test evaluations\n",
        "        evaluations_progress[epoch, 1, :] = test_evaluations\n",
        "\n",
        "    # return test_eval_progress and train_eval_progress after the training completed\n",
        "    return evaluations_progress"
      ]
    },
    {
      "cell_type": "code",
      "execution_count": 30,
      "metadata": {
        "colab": {
          "base_uri": "https://localhost:8080/"
        },
        "id": "PDrwaxTWMjAF",
        "outputId": "3ca8f424-1974-49ec-ae99-f47b9b4a28f2"
      },
      "outputs": [
        {
          "output_type": "stream",
          "name": "stdout",
          "text": [
            "network(\n",
            "  (fc1): Linear(in_features=6, out_features=30, bias=True)\n",
            "  (fc2): Linear(in_features=30, out_features=3, bias=True)\n",
            "  (fc3): Linear(in_features=4, out_features=33, bias=True)\n",
            "  (fc4): Linear(in_features=33, out_features=15, bias=True)\n",
            "  (fc5): Linear(in_features=15, out_features=1, bias=True)\n",
            ")\n",
            "batch_size = 4096 \n",
            " starting learning rate = 0.0005 \n",
            " number of epochs = 17   \n",
            " number of batches = 169 \n",
            " model = network(\n",
            "  (fc1): Linear(in_features=6, out_features=30, bias=True)\n",
            "  (fc2): Linear(in_features=30, out_features=3, bias=True)\n",
            "  (fc3): Linear(in_features=4, out_features=33, bias=True)\n",
            "  (fc4): Linear(in_features=33, out_features=15, bias=True)\n",
            "  (fc5): Linear(in_features=15, out_features=1, bias=True)\n",
            "), \n",
            " criterion=MeanAbsolutePercentageError(), \n",
            " optimizer=Adam (\n",
            "Parameter Group 0\n",
            "    amsgrad: False\n",
            "    betas: (0.9, 0.999)\n",
            "    capturable: False\n",
            "    differentiable: False\n",
            "    eps: 1e-08\n",
            "    foreach: None\n",
            "    fused: None\n",
            "    lr: 0.0005\n",
            "    maximize: False\n",
            "    weight_decay: 0\n",
            ")\n"
          ]
        },
        {
          "output_type": "stream",
          "name": "stderr",
          "text": [
            "epoch [1/17], loss=99.5473: 100%|██████████| 169/169 [00:34<00:00,  4.96it/s]\n"
          ]
        },
        {
          "output_type": "stream",
          "name": "stdout",
          "text": [
            "after 1 epoch, \n",
            "train-data evaluation:- r2score = -0.07667, MSE = 1615959.75, MAPE = 2.91030       \n",
            "test-data evaluation:- r2score = -0.07667, MSE = 1615959.75, MAPE = 2.91030       time_elapsed = 1.0 minuts. \n",
            " -----------------------------------------------------------------------------------------------------------------------\n"
          ]
        },
        {
          "output_type": "stream",
          "name": "stderr",
          "text": [
            "epoch [2/17], loss=0.8785: 100%|██████████| 169/169 [00:23<00:00,  7.09it/s]\n"
          ]
        },
        {
          "output_type": "stream",
          "name": "stdout",
          "text": [
            "after 2 epoch, \n",
            "train-data evaluation:- r2score = -0.07667, MSE = 1615959.75, MAPE = 0.88329       \n",
            "test-data evaluation:- r2score = -0.07667, MSE = 1615959.75, MAPE = 0.88329       time_elapsed = 0.8 minuts. \n",
            " -----------------------------------------------------------------------------------------------------------------------\n"
          ]
        },
        {
          "output_type": "stream",
          "name": "stderr",
          "text": [
            "epoch [3/17], loss=0.9223: 100%|██████████| 169/169 [00:24<00:00,  6.76it/s]\n"
          ]
        },
        {
          "output_type": "stream",
          "name": "stdout",
          "text": [
            "after 3 epoch, \n",
            "train-data evaluation:- r2score = -0.07667, MSE = 1615959.75, MAPE = 0.88329       \n",
            "test-data evaluation:- r2score = -0.07667, MSE = 1615959.75, MAPE = 0.88329       time_elapsed = 0.9 minuts. \n",
            " -----------------------------------------------------------------------------------------------------------------------\n"
          ]
        },
        {
          "output_type": "stream",
          "name": "stderr",
          "text": [
            "epoch [4/17], loss=0.8762: 100%|██████████| 169/169 [00:22<00:00,  7.36it/s]\n"
          ]
        },
        {
          "output_type": "stream",
          "name": "stdout",
          "text": [
            "after 4 epoch, \n",
            "train-data evaluation:- r2score = -0.07667, MSE = 1615959.75, MAPE = 0.88329       \n",
            "test-data evaluation:- r2score = -0.07667, MSE = 1615959.75, MAPE = 0.88329       time_elapsed = 0.8 minuts. \n",
            " -----------------------------------------------------------------------------------------------------------------------\n"
          ]
        },
        {
          "output_type": "stream",
          "name": "stderr",
          "text": [
            "epoch [5/17], loss=0.8872: 100%|██████████| 169/169 [00:24<00:00,  6.94it/s]\n"
          ]
        },
        {
          "output_type": "stream",
          "name": "stdout",
          "text": [
            "after 5 epoch, \n",
            "train-data evaluation:- r2score = -0.07667, MSE = 1615959.75, MAPE = 0.88329       \n",
            "test-data evaluation:- r2score = -0.07667, MSE = 1615959.75, MAPE = 0.88329       time_elapsed = 0.8 minuts. \n",
            " -----------------------------------------------------------------------------------------------------------------------\n"
          ]
        },
        {
          "output_type": "stream",
          "name": "stderr",
          "text": [
            "epoch [6/17], loss=0.9064: 100%|██████████| 169/169 [00:24<00:00,  6.82it/s]\n"
          ]
        },
        {
          "output_type": "stream",
          "name": "stdout",
          "text": [
            "after 6 epoch, \n",
            "train-data evaluation:- r2score = -0.07667, MSE = 1615959.75, MAPE = 0.88329       \n",
            "test-data evaluation:- r2score = -0.07667, MSE = 1615959.75, MAPE = 0.88329       time_elapsed = 0.9 minuts. \n",
            " -----------------------------------------------------------------------------------------------------------------------\n"
          ]
        },
        {
          "output_type": "stream",
          "name": "stderr",
          "text": [
            "epoch [7/17], loss=0.8548: 100%|██████████| 169/169 [00:23<00:00,  7.19it/s]\n"
          ]
        },
        {
          "output_type": "stream",
          "name": "stdout",
          "text": [
            "after 7 epoch, \n",
            "train-data evaluation:- r2score = -0.07667, MSE = 1615959.75, MAPE = 0.88329       \n",
            "test-data evaluation:- r2score = -0.07667, MSE = 1615959.75, MAPE = 0.88329       time_elapsed = 0.8 minuts. \n",
            " -----------------------------------------------------------------------------------------------------------------------\n"
          ]
        },
        {
          "output_type": "stream",
          "name": "stderr",
          "text": [
            "epoch [8/17], loss=0.8822: 100%|██████████| 169/169 [00:24<00:00,  6.81it/s]\n"
          ]
        },
        {
          "output_type": "stream",
          "name": "stdout",
          "text": [
            "Epoch 00008: reducing learning rate of group 0 to 4.5000e-04.\n",
            "after 8 epoch, \n",
            "train-data evaluation:- r2score = -0.07667, MSE = 1615959.75, MAPE = 0.88329       \n",
            "test-data evaluation:- r2score = -0.07667, MSE = 1615959.75, MAPE = 0.88329       time_elapsed = 0.8 minuts. \n",
            " -----------------------------------------------------------------------------------------------------------------------\n"
          ]
        },
        {
          "output_type": "stream",
          "name": "stderr",
          "text": [
            "epoch [9/17], loss=0.8680: 100%|██████████| 169/169 [00:23<00:00,  7.07it/s]\n"
          ]
        },
        {
          "output_type": "stream",
          "name": "stdout",
          "text": [
            "after 9 epoch, \n",
            "train-data evaluation:- r2score = -0.07667, MSE = 1615959.75, MAPE = 0.88329       \n",
            "test-data evaluation:- r2score = -0.07667, MSE = 1615959.75, MAPE = 0.88329       time_elapsed = 0.8 minuts. \n",
            " -----------------------------------------------------------------------------------------------------------------------\n"
          ]
        },
        {
          "output_type": "stream",
          "name": "stderr",
          "text": [
            "epoch [10/17], loss=0.9059: 100%|██████████| 169/169 [00:24<00:00,  7.04it/s]\n"
          ]
        },
        {
          "output_type": "stream",
          "name": "stdout",
          "text": [
            "after 10 epoch, \n",
            "train-data evaluation:- r2score = -0.07667, MSE = 1615959.75, MAPE = 0.88329       \n",
            "test-data evaluation:- r2score = -0.07667, MSE = 1615959.75, MAPE = 0.88329       time_elapsed = 0.8 minuts. \n",
            " -----------------------------------------------------------------------------------------------------------------------\n"
          ]
        },
        {
          "output_type": "stream",
          "name": "stderr",
          "text": [
            "epoch [11/17], loss=0.8701: 100%|██████████| 169/169 [00:24<00:00,  6.80it/s]\n"
          ]
        },
        {
          "output_type": "stream",
          "name": "stdout",
          "text": [
            "after 11 epoch, \n",
            "train-data evaluation:- r2score = -0.07667, MSE = 1615959.75, MAPE = 0.88329       \n",
            "test-data evaluation:- r2score = -0.07667, MSE = 1615959.75, MAPE = 0.88329       time_elapsed = 0.8 minuts. \n",
            " -----------------------------------------------------------------------------------------------------------------------\n"
          ]
        },
        {
          "output_type": "stream",
          "name": "stderr",
          "text": [
            "epoch [12/17], loss=0.9099: 100%|██████████| 169/169 [00:22<00:00,  7.37it/s]\n"
          ]
        },
        {
          "output_type": "stream",
          "name": "stdout",
          "text": [
            "after 12 epoch, \n",
            "train-data evaluation:- r2score = -0.07667, MSE = 1615959.75, MAPE = 0.88329       \n",
            "test-data evaluation:- r2score = -0.07667, MSE = 1615959.75, MAPE = 0.88329       time_elapsed = 0.8 minuts. \n",
            " -----------------------------------------------------------------------------------------------------------------------\n"
          ]
        },
        {
          "output_type": "stream",
          "name": "stderr",
          "text": [
            "epoch [13/17], loss=0.8788: 100%|██████████| 169/169 [00:24<00:00,  6.76it/s]\n"
          ]
        },
        {
          "output_type": "stream",
          "name": "stdout",
          "text": [
            "after 13 epoch, \n",
            "train-data evaluation:- r2score = -0.07667, MSE = 1615959.75, MAPE = 0.88329       \n",
            "test-data evaluation:- r2score = -0.07667, MSE = 1615959.75, MAPE = 0.88329       time_elapsed = 0.8 minuts. \n",
            " -----------------------------------------------------------------------------------------------------------------------\n"
          ]
        },
        {
          "output_type": "stream",
          "name": "stderr",
          "text": [
            "epoch [14/17], loss=0.8948: 100%|██████████| 169/169 [00:23<00:00,  7.16it/s]\n"
          ]
        },
        {
          "output_type": "stream",
          "name": "stdout",
          "text": [
            "Epoch 00014: reducing learning rate of group 0 to 4.0500e-04.\n",
            "after 14 epoch, \n",
            "train-data evaluation:- r2score = -0.07667, MSE = 1615959.75, MAPE = 0.88329       \n",
            "test-data evaluation:- r2score = -0.07667, MSE = 1615959.75, MAPE = 0.88329       time_elapsed = 0.8 minuts. \n",
            " -----------------------------------------------------------------------------------------------------------------------\n"
          ]
        },
        {
          "output_type": "stream",
          "name": "stderr",
          "text": [
            "epoch [15/17], loss=0.8912: 100%|██████████| 169/169 [00:23<00:00,  7.06it/s]\n"
          ]
        },
        {
          "output_type": "stream",
          "name": "stdout",
          "text": [
            "after 15 epoch, \n",
            "train-data evaluation:- r2score = -0.07667, MSE = 1615959.75, MAPE = 0.88329       \n",
            "test-data evaluation:- r2score = -0.07667, MSE = 1615959.75, MAPE = 0.88329       time_elapsed = 0.8 minuts. \n",
            " -----------------------------------------------------------------------------------------------------------------------\n"
          ]
        },
        {
          "output_type": "stream",
          "name": "stderr",
          "text": [
            "epoch [16/17], loss=0.8797: 100%|██████████| 169/169 [00:24<00:00,  6.81it/s]\n"
          ]
        },
        {
          "output_type": "stream",
          "name": "stdout",
          "text": [
            "after 16 epoch, \n",
            "train-data evaluation:- r2score = -0.07667, MSE = 1615959.75, MAPE = 0.88329       \n",
            "test-data evaluation:- r2score = -0.07667, MSE = 1615959.75, MAPE = 0.88329       time_elapsed = 0.9 minuts. \n",
            " -----------------------------------------------------------------------------------------------------------------------\n"
          ]
        },
        {
          "output_type": "stream",
          "name": "stderr",
          "text": [
            "epoch [17/17], loss=0.8768: 100%|██████████| 169/169 [00:22<00:00,  7.44it/s]\n"
          ]
        },
        {
          "output_type": "stream",
          "name": "stdout",
          "text": [
            "after 17 epoch, \n",
            "train-data evaluation:- r2score = -0.07667, MSE = 1615959.75, MAPE = 0.88329       \n",
            "test-data evaluation:- r2score = -0.07667, MSE = 1615959.75, MAPE = 0.88329       time_elapsed = 0.8 minuts. \n",
            " -----------------------------------------------------------------------------------------------------------------------\n"
          ]
        }
      ],
      "source": [
        "# from this cell you can adjust/tune almost all the hyper paremeters,\n",
        "# except the model structure which can be adjusted from the previous cell\n",
        "\n",
        "# initializing the model and convert it to device(gpu or cpu)\n",
        "model = network().to(device)\n",
        "\n",
        "# print the model structure\n",
        "print(model)\n",
        "\n",
        "# the Learning Rate hyperparameter\n",
        "learning_rate = 0.0005\n",
        "\n",
        "# loss initializing\n",
        "# criterion = R2Score(num_outputs=1, adjusted=0)\n",
        "# criterion = nn.MSELoss()\n",
        "criterion = MeanAbsolutePercentageError()\n",
        "\n",
        "# optimizer initializing\n",
        "optimizer = torch.optim.Adam(params=model.parameters(), lr=learning_rate)\n",
        "\n",
        "#learning-rate schedular initialization\n",
        "# i used values here to elimiate this function effect, as i found i don't need it now, and i didn't remove it totally\n",
        "# to be able to call it again just by modify the factor and patience values without change any other part of the code\n",
        "schedular = torch.optim.lr_scheduler.ReduceLROnPlateau(optimizer, factor=0.9, patience=5, verbose=True)\n",
        "\n",
        "# determine number of calculations\n",
        "num_epochs = 17\n",
        "\n",
        "# set the batch size\n",
        "batch_size = 4096\n",
        "\n",
        "# create the train_loader object\n",
        "train_loader = DataLoader(dataset=train_set, shuffle=True, batch_size=batch_size)\n",
        "\n",
        "# create the test_loader object\n",
        "test_loader = DataLoader(dataset=test_set, batch_size=batch_size)\n",
        "\n",
        "# lets check the valaidation before training\n",
        "starting_test_eval = evaluate_model(model, data_loader=test_loader)\n",
        "\n",
        "# call the training function\n",
        "evaluations_progress = train_model(num_epochs, data_loader=train_loader)"
      ]
    },
    {
      "cell_type": "markdown",
      "metadata": {
        "id": "b0lFHs5Q4M6H"
      },
      "source": [
        "why i print maximum accuracy the model reached? as sometimes the model reach to a very good accuracy then it's accuracy degraded, but the point is as long as the model can to reach to that good accuracy then i need to know that to figure out if i'm close to optimum hyperparameters or no and to decide if i need to change the hyperparameters with small scale or large one."
      ]
    },
    {
      "cell_type": "code",
      "execution_count": 33,
      "metadata": {
        "colab": {
          "base_uri": "https://localhost:8080/"
        },
        "id": "2ONGH5gBBKIQ",
        "outputId": "c41f3621-f5ea-4543-d081-44156af2c730"
      },
      "outputs": [
        {
          "output_type": "stream",
          "name": "stdout",
          "text": [
            "maximun R2Score training evaluation=-0.07618\n",
            "maximun R2Score test evaluation=-0.07618\n",
            "minimun MSE training evaluation=1631142.375\n",
            "minimun MSE test evaluation=1631142.375\n",
            "maximun MAPE training evaluation=0.88199\n",
            "maximun MAPE test evaluation=0.88199\n"
          ]
        }
      ],
      "source": [
        "# printing the maximum training accuracy and maximum testing accuracy the model reached\n",
        "print(f\"maximun R2Score training evaluation={(max(evaluations_progress[:, 0, 0])):.5f}\\\n",
        "\\nmaximun R2Score test evaluation={(max(evaluations_progress[:, 0, 0])):.5f}\\\n",
        "\\nminimun MSE training evaluation={(min(evaluations_progress[:, 0, 1]))}\\\n",
        "\\nminimun MSE test evaluation={(min(evaluations_progress[:, 0, 1]))}\\\n",
        "\\nmaximun MAPE training evaluation={(min(evaluations_progress[:, 0, 2])):.5f}\\\n",
        "\\nmaximun MAPE test evaluation={(min(evaluations_progress[:, 0, 2])):.5f}\")\n"
      ]
    },
    {
      "cell_type": "markdown",
      "metadata": {
        "id": "wQMI2xqKQgUH"
      },
      "source": [
        "### plot the overall training and testing accuracy progress"
      ]
    },
    {
      "cell_type": "code",
      "execution_count": 34,
      "metadata": {
        "colab": {
          "base_uri": "https://localhost:8080/",
          "height": 472
        },
        "id": "HWV83STLBJ-J",
        "outputId": "5799398e-3e74-4eb1-e8e5-18990ba0d549"
      },
      "outputs": [
        {
          "output_type": "display_data",
          "data": {
            "text/plain": [
              "<Figure size 640x480 with 1 Axes>"
            ],
            "image/png": "[encoded data removed]"
          },
          "metadata": {}
        }
      ],
      "source": [
        "def plot_evaluation(train_progress, test_progress, title):\n",
        "    '''function to plot the progress of training and testing data'''\n",
        "\n",
        "    # convert the train accuracy list into numpy array.\n",
        "    train_line_val = np.array([val for val in train_progress])\n",
        "    # convert the train accuracy list into numpy array.\n",
        "    test_line_val = np.array([val for val in test_progress])\n",
        "\n",
        "    # plot the progress of training accuracy over epochs.\n",
        "    train_progress, = plt.plot((range(len(train_line_val))), train_line_val, label=\"train progress\", marker=\"*\", linewidth=3)\n",
        "    # plot the progress of testing accuracy over epochs.\n",
        "    test_progress, = plt.plot((range(len(test_line_val))), test_line_val, label=\"test progress\", marker=\"o\", linewidth=1)\n",
        "\n",
        "    # set the legend parameters.\n",
        "    plt.legend(loc=\"best\", handles=[train_progress, test_progress])\n",
        "    # write the figure title.\n",
        "    plt.title(title)\n",
        "    # write the label of x axis.\n",
        "    plt.xlabel(\"epochs\")\n",
        "    # write the label of y axis.\n",
        "    plt.ylabel(\"validation\")\n",
        "    # add grid to the figure\n",
        "    plt.grid(which='major')\n",
        "    # to show the figure and remove any unwanted appered words\n",
        "    plt.show()\n",
        "\n",
        "plot_evaluation(evaluations_progress[:, 0, 0], evaluations_progress[:, 1, 0], 'R2-score evaluation progress while training')"
      ]
    },
    {
      "cell_type": "code",
      "execution_count": 35,
      "metadata": {
        "colab": {
          "base_uri": "https://localhost:8080/",
          "height": 472
        },
        "id": "E9rA1gDIx0sw",
        "outputId": "2362e14d-ed80-427e-bf56-53f8ed134232"
      },
      "outputs": [
        {
          "output_type": "display_data",
          "data": {
            "text/plain": [
              "<Figure size 640x480 with 1 Axes>"
            ],
            "image/png": "[encoded data removed]"
          },
          "metadata": {}
        }
      ],
      "source": [
        "plot_evaluation(evaluations_progress[:, 0, 1], evaluations_progress[:, 1, 1], 'MSE evaluation progress while training')"
      ]
    },
    {
      "cell_type": "code",
      "execution_count": 36,
      "metadata": {
        "colab": {
          "base_uri": "https://localhost:8080/",
          "height": 472
        },
        "id": "svmxgyivdCOm",
        "outputId": "49ffef13-d423-48a1-de01-dcfafeea94ce"
      },
      "outputs": [
        {
          "output_type": "display_data",
          "data": {
            "text/plain": [
              "<Figure size 640x480 with 1 Axes>"
            ],
            "image/png": "[encoded data removed]"
          },
          "metadata": {}
        }
      ],
      "source": [
        "plot_evaluation(evaluations_progress[:, 0, 2], evaluations_progress[:, 1, 2], 'MAPE evaluation progress while training')"
      ]
    },
    {
      "cell_type": "markdown",
      "source": [
        "As the training data is big, the model make most of the learning from the first epochs, that's may be the reason that the learning stop after only 6 epochs"
      ],
      "metadata": {
        "id": "3gEqO_yPahLI"
      }
    },
    {
      "cell_type": "code",
      "execution_count": 37,
      "metadata": {
        "colab": {
          "base_uri": "https://localhost:8080/"
        },
        "id": "5fvaK2UWsvNE",
        "outputId": "0a38a2b9-1057-4006-d355-d57d3601abbb"
      },
      "outputs": [
        {
          "output_type": "stream",
          "name": "stdout",
          "text": [
            "/content/drive/MyDrive/Mabrains-project/Mabrains-data\n"
          ]
        },
        {
          "output_type": "execute_result",
          "data": {
            "text/plain": [
              "network(\n",
              "  (fc1): Linear(in_features=6, out_features=30, bias=True)\n",
              "  (fc2): Linear(in_features=30, out_features=3, bias=True)\n",
              "  (fc3): Linear(in_features=4, out_features=33, bias=True)\n",
              "  (fc4): Linear(in_features=33, out_features=15, bias=True)\n",
              "  (fc5): Linear(in_features=15, out_features=1, bias=True)\n",
              ")"
            ]
          },
          "metadata": {},
          "execution_count": 37
        }
      ],
      "source": [
        "# to change to this directory\n",
        "%cd /content/drive/MyDrive/Mabrains-project/Mabrains-data\n",
        "\n",
        "# path to the saving file\n",
        "PATH = '/content/drive/MyDrive/Mabrains-project/Mabrains-data/finalized_pytorch_model2.sav'\n",
        "\n",
        "# saving the model using pytorch refer to https://pytorch.org/tutorials/beginner/saving_loading_models.html\n",
        "torch.save(model, PATH)\n",
        "\n",
        "# loading the model when needed\n",
        "# Model class must be defined somewhere\n",
        "loaded_model = torch.load(PATH)\n",
        "loaded_model.eval()\n",
        "\n",
        "# # # #save the trained model to disk\n",
        "# filename = 'finalized_pytorch_model.sav'\n",
        "# joblib.dump(model, filename)\n",
        "# # # # to load the model from disk\n",
        "# loaded_model = joblib.load(filename)\n",
        "\n",
        "\n",
        "\n",
        "# # # another way to save the trained model\n",
        "# filename = 'finalized_model.sav'\n",
        "# pickle.dump(model, open(filename, 'wb'))\n",
        "#\n",
        "# # # # to load the model from disk\n",
        "# loaded_model = pickle.load(open(filename, 'rb'))"
      ]
    },
    {
      "cell_type": "markdown",
      "metadata": {
        "id": "J5ku-KrPRq4R"
      },
      "source": [
        "### make the preprocessing steps on the test data\n"
      ]
    },
    {
      "cell_type": "code",
      "execution_count": 38,
      "metadata": {
        "id": "4XOgFVHsNapw"
      },
      "outputs": [],
      "source": [
        "# apply the needed transformations over testing data.\n",
        "xtest = col_trans1.transform(xtest_unprocessed)\n",
        "\n",
        "# compine features and the corresponding labels in an object.\n",
        "test_set = CollectedData(xtest, ytest)\n",
        "\n",
        "# # almost the same result of the brevious cell, using another way.\n",
        "# # train_set, test_set = torch.utils.data.random_split(dataset, [len(dataset)-test_len, int(len(dataset)*0.2)])\n",
        "\n",
        "# test_labels = torch.tensor(ytest.values.astype(np.float32))\n",
        "# test_input = torch.tensor(xtest.values.astype(np.float32))\n",
        "# test_set = TensorDataset(test_input, test_labels)\n",
        "\n",
        "# split the test data into batches to be eaisly to deal with.\n",
        "test_loader = DataLoader(dataset=test_set, batch_size=batch_size)"
      ]
    },
    {
      "cell_type": "code",
      "execution_count": 39,
      "metadata": {
        "colab": {
          "base_uri": "https://localhost:8080/"
        },
        "id": "qVP6Hj5OibxU",
        "outputId": "284a799a-c9a2-41cf-b363-f3528a145b2e"
      },
      "outputs": [
        {
          "output_type": "execute_result",
          "data": {
            "text/plain": [
              "array([-7.6671124e-02,  1.6159598e+06,  8.8328868e-01], dtype=float32)"
            ]
          },
          "metadata": {},
          "execution_count": 39
        }
      ],
      "source": [
        "test_eval = evaluate_model(model, data_loader=test_loader)\n",
        "test_eval"
      ]
    },
    {
      "cell_type": "markdown",
      "source": [
        "### This Notebook written at Oct-2023 by Ahmad salama\n",
        "- salama4ai@gmail.com\n",
        "- www.linkedin.com/in/salama4ai"
      ],
      "metadata": {
        "id": "iHgAIktvA2Ae"
      }
    },
    {
      "cell_type": "code",
      "execution_count": null,
      "metadata": {
        "id": "CGDHNFKgdqEn"
      },
      "outputs": [],
      "source": []
    }
  ],
  "metadata": {
    "colab": {
      "provenance": [],
      "mount_file_id": "1Y6TTIeMIgPZ6oh0w1K6IA_ddZ65QjEWC",
      "authorship_tag": "ABX9TyPgBNLFzahnNlGP779q/E3q",
      "include_colab_link": true
    },
    "kernelspec": {
      "display_name": "Python 3",
      "name": "python3"
    },
    "language_info": {
      "name": "python"
    }
  },
  "nbformat": 4,
  "nbformat_minor": 0
}